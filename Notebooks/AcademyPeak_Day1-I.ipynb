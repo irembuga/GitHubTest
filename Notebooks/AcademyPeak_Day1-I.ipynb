{
  "cells": [
    {
      "cell_type": "markdown",
      "metadata": {
        "id": "view-in-github",
        "colab_type": "text"
      },
      "source": [
        "<a href=\"https://colab.research.google.com/github/irembuga/GitHubTest/blob/master/Notebooks/AcademyPeak_Day1-I.ipynb\" target=\"_parent\"><img src=\"https://colab.research.google.com/assets/colab-badge.svg\" alt=\"Open In Colab\"/></a>"
      ]
    },
    {
      "cell_type": "markdown",
      "metadata": {
        "id": "xBq8uEszJkqw"
      },
      "source": [
        "\n",
        "# Python 101"
      ]
    },
    {
      "cell_type": "markdown",
      "metadata": {
        "id": "BrfKhDLUy4OV"
      },
      "source": [
        "## Python as a calculator"
      ]
    },
    {
      "cell_type": "code",
      "execution_count": null,
      "metadata": {
        "id": "X-rn1m9Ly4OW",
        "outputId": "bf233271-6378-44ec-c61f-363181ca0441"
      },
      "outputs": [
        {
          "data": {
            "text/plain": [
              "8"
            ]
          },
          "execution_count": 4,
          "metadata": {},
          "output_type": "execute_result"
        }
      ],
      "source": [
        "3+5"
      ]
    },
    {
      "cell_type": "markdown",
      "metadata": {
        "id": "rOEAqInQGFVu"
      },
      "source": [
        "## Computations"
      ]
    },
    {
      "cell_type": "code",
      "execution_count": null,
      "metadata": {
        "id": "OQzlT59exPuY",
        "outputId": "eaa0a1fb-02f6-45b3-d14f-f0e84b25a0de"
      },
      "outputs": [
        {
          "data": {
            "text/plain": [
              "25"
            ]
          },
          "execution_count": 49,
          "metadata": {},
          "output_type": "execute_result"
        }
      ],
      "source": [
        "5**2"
      ]
    },
    {
      "cell_type": "code",
      "execution_count": null,
      "metadata": {
        "id": "IT5uTIgBGRIz",
        "outputId": "2daf912a-cd50-4805-8af6-feb99b89a84c"
      },
      "outputs": [
        {
          "data": {
            "text/plain": [
              "-32"
            ]
          },
          "execution_count": 55,
          "metadata": {},
          "output_type": "execute_result"
        }
      ],
      "source": [
        "35-67"
      ]
    },
    {
      "cell_type": "code",
      "execution_count": null,
      "metadata": {
        "id": "UIwXGkZqGVId",
        "outputId": "2e4a736e-fa12-4740-e195-463a80bf25a6"
      },
      "outputs": [
        {
          "data": {
            "text/plain": [
              "'3567'"
            ]
          },
          "execution_count": 50,
          "metadata": {},
          "output_type": "execute_result"
        }
      ],
      "source": [
        "\"35\"+\"67\""
      ]
    },
    {
      "cell_type": "code",
      "execution_count": null,
      "metadata": {
        "id": "Qx0vjBUmGZNk",
        "outputId": "5010a6d3-15d9-4484-fa45-98c634bcb8b2"
      },
      "outputs": [
        {
          "ename": "TypeError",
          "evalue": "can only concatenate str (not \"int\") to str",
          "output_type": "error",
          "traceback": [
            "\u001b[0;31m---------------------------------------------------------------------------\u001b[0m",
            "\u001b[0;31mTypeError\u001b[0m                                 Traceback (most recent call last)",
            "\u001b[0;32m<ipython-input-51-bb64d695b9f6>\u001b[0m in \u001b[0;36m<module>\u001b[0;34m\u001b[0m\n\u001b[0;32m----> 1\u001b[0;31m \u001b[0;34m\"35\"\u001b[0m \u001b[0;34m+\u001b[0m \u001b[0;36m67\u001b[0m\u001b[0;34m\u001b[0m\u001b[0;34m\u001b[0m\u001b[0m\n\u001b[0m",
            "\u001b[0;31mTypeError\u001b[0m: can only concatenate str (not \"int\") to str"
          ]
        }
      ],
      "source": [
        "\"35\" + 67"
      ]
    },
    {
      "cell_type": "code",
      "execution_count": null,
      "metadata": {
        "id": "vd6xt135y4Ob",
        "outputId": "c1378eef-f448-4225-91ed-7d67aea59740"
      },
      "outputs": [
        {
          "data": {
            "text/plain": [
              "10"
            ]
          },
          "execution_count": 52,
          "metadata": {},
          "output_type": "execute_result"
        }
      ],
      "source": [
        "5 * 2"
      ]
    },
    {
      "cell_type": "code",
      "execution_count": null,
      "metadata": {
        "id": "_EzMFsTMGbw5",
        "outputId": "a3c5d1b0-576a-4c71-886b-48409f9a1b2f"
      },
      "outputs": [
        {
          "data": {
            "text/plain": [
              "'353535'"
            ]
          },
          "execution_count": 53,
          "metadata": {},
          "output_type": "execute_result"
        }
      ],
      "source": [
        "\"35\"*3"
      ]
    },
    {
      "cell_type": "code",
      "execution_count": null,
      "metadata": {
        "id": "X_FiEHA9GlUH",
        "outputId": "964ceda5-0ad0-4aa4-9ae6-61191aae4c5c"
      },
      "outputs": [
        {
          "data": {
            "text/plain": [
              "'hellohellohellohello'"
            ]
          },
          "execution_count": 54,
          "metadata": {},
          "output_type": "execute_result"
        }
      ],
      "source": [
        "\"hello\"*4"
      ]
    },
    {
      "cell_type": "code",
      "execution_count": null,
      "metadata": {
        "id": "qCIBU4v8HH3Y"
      },
      "outputs": [],
      "source": [
        "x = 10"
      ]
    },
    {
      "cell_type": "code",
      "execution_count": null,
      "metadata": {
        "id": "s1HOIQUXy4Oc",
        "outputId": "5ccf1b04-6013-4fe5-efc1-700080364339"
      },
      "outputs": [
        {
          "name": "stdout",
          "output_type": "stream",
          "text": [
            "12\n"
          ]
        }
      ],
      "source": [
        "print(x+2)"
      ]
    },
    {
      "cell_type": "code",
      "execution_count": null,
      "metadata": {
        "id": "UpcJHxLuy4Oc",
        "outputId": "12a21c22-d872-4b05-fd2e-c9d711026213"
      },
      "outputs": [
        {
          "name": "stdout",
          "output_type": "stream",
          "text": [
            "8\n"
          ]
        }
      ],
      "source": [
        "print(x-2)"
      ]
    },
    {
      "cell_type": "code",
      "execution_count": null,
      "metadata": {
        "id": "1RQdKpf3y4Oc",
        "outputId": "6b477acc-ab85-4b3e-976b-1d7a766364aa"
      },
      "outputs": [
        {
          "name": "stdout",
          "output_type": "stream",
          "text": [
            "20\n"
          ]
        }
      ],
      "source": [
        "print(x*2)"
      ]
    },
    {
      "cell_type": "code",
      "execution_count": null,
      "metadata": {
        "id": "xagYclkay4Oc",
        "outputId": "6afb7f92-9683-4718-bb6f-69fd36434b75"
      },
      "outputs": [
        {
          "name": "stdout",
          "output_type": "stream",
          "text": [
            "100\n"
          ]
        }
      ],
      "source": [
        "print(x**2)"
      ]
    },
    {
      "cell_type": "code",
      "execution_count": null,
      "metadata": {
        "id": "RJrY1Icjy4Oc",
        "outputId": "180ad4aa-d9f3-44c0-db61-176bafb9db87"
      },
      "outputs": [
        {
          "name": "stdout",
          "output_type": "stream",
          "text": [
            "5.0\n"
          ]
        }
      ],
      "source": [
        "print(x/2)"
      ]
    },
    {
      "cell_type": "code",
      "execution_count": null,
      "metadata": {
        "id": "tAT8ZNPPy4Od",
        "outputId": "c486a7f6-30a6-4a59-b80b-89140f170c38"
      },
      "outputs": [
        {
          "name": "stdout",
          "output_type": "stream",
          "text": [
            "0\n"
          ]
        }
      ],
      "source": [
        "print(x%2)"
      ]
    },
    {
      "cell_type": "code",
      "execution_count": null,
      "metadata": {
        "id": "kVG1HR05y4Od"
      },
      "outputs": [],
      "source": [
        "y = 13"
      ]
    },
    {
      "cell_type": "code",
      "execution_count": null,
      "metadata": {
        "scrolled": true,
        "id": "wADFZDkhy4Od",
        "outputId": "c35916a0-3f84-403a-a8f6-31f22566f25f"
      },
      "outputs": [
        {
          "name": "stdout",
          "output_type": "stream",
          "text": [
            "6.5\n"
          ]
        }
      ],
      "source": [
        "print(y/2)"
      ]
    },
    {
      "cell_type": "code",
      "execution_count": null,
      "metadata": {
        "id": "imzLVXBYLNhW",
        "outputId": "09c9270f-03d9-4b12-b8a0-1d2e091c5f92"
      },
      "outputs": [
        {
          "name": "stdout",
          "output_type": "stream",
          "text": [
            "1\n"
          ]
        }
      ],
      "source": [
        "print(y%2)"
      ]
    },
    {
      "cell_type": "code",
      "execution_count": null,
      "metadata": {
        "id": "d4lSWDRTy4Od"
      },
      "outputs": [],
      "source": [
        "z = 5"
      ]
    },
    {
      "cell_type": "code",
      "execution_count": null,
      "metadata": {
        "id": "Xxv0hMMry4Od",
        "outputId": "87a83553-d64c-4608-a393-57d8af1ef429"
      },
      "outputs": [
        {
          "data": {
            "text/plain": [
              "10"
            ]
          },
          "execution_count": 69,
          "metadata": {},
          "output_type": "execute_result"
        }
      ],
      "source": [
        "z*2"
      ]
    },
    {
      "cell_type": "code",
      "execution_count": null,
      "metadata": {
        "id": "KAWgG3joy4Od",
        "outputId": "c8a7632e-f040-4739-bcad-4ec95e1e264e"
      },
      "outputs": [
        {
          "data": {
            "text/plain": [
              "5"
            ]
          },
          "execution_count": 70,
          "metadata": {},
          "output_type": "execute_result"
        }
      ],
      "source": [
        "z"
      ]
    },
    {
      "cell_type": "code",
      "execution_count": null,
      "metadata": {
        "id": "LmSrfexPy4Od",
        "outputId": "2a7be5ba-ffca-40a3-e1bc-ad373ec4e7e4"
      },
      "outputs": [
        {
          "data": {
            "text/plain": [
              "6"
            ]
          },
          "execution_count": 71,
          "metadata": {},
          "output_type": "execute_result"
        }
      ],
      "source": [
        "z+1"
      ]
    },
    {
      "cell_type": "code",
      "execution_count": null,
      "metadata": {
        "id": "ZECrTCory4Od"
      },
      "outputs": [],
      "source": [
        "z = z+1"
      ]
    },
    {
      "cell_type": "code",
      "execution_count": null,
      "metadata": {
        "id": "z2dstlupy4Oe",
        "outputId": "cad7e91e-3297-4831-957d-a23d49a8e0b8"
      },
      "outputs": [
        {
          "data": {
            "text/plain": [
              "6"
            ]
          },
          "execution_count": 73,
          "metadata": {},
          "output_type": "execute_result"
        }
      ],
      "source": [
        "z"
      ]
    },
    {
      "cell_type": "code",
      "execution_count": null,
      "metadata": {
        "id": "embnUgVYy4Oe"
      },
      "outputs": [],
      "source": [
        "z += 1"
      ]
    },
    {
      "cell_type": "code",
      "execution_count": null,
      "metadata": {
        "id": "D6al7gKny4Oe"
      },
      "outputs": [],
      "source": [
        "z"
      ]
    },
    {
      "cell_type": "code",
      "execution_count": null,
      "metadata": {
        "id": "79NqA1ENy4Oe"
      },
      "outputs": [],
      "source": [
        "z = z*2"
      ]
    },
    {
      "cell_type": "code",
      "execution_count": null,
      "metadata": {
        "id": "2HOE_xOGL3WQ"
      },
      "outputs": [],
      "source": [
        "z*=2\n",
        "z"
      ]
    },
    {
      "cell_type": "code",
      "execution_count": null,
      "metadata": {
        "id": "4hGgBxCZy4Oe",
        "outputId": "98dbdf0b-d095-4f74-a1e4-02f6c2bfe400"
      },
      "outputs": [
        {
          "data": {
            "text/plain": [
              "10.5"
            ]
          },
          "execution_count": 75,
          "metadata": {},
          "output_type": "execute_result"
        }
      ],
      "source": [
        "6 + 4.5"
      ]
    },
    {
      "cell_type": "code",
      "execution_count": null,
      "metadata": {
        "id": "mDqgCXWLy4Oe"
      },
      "outputs": [],
      "source": []
    },
    {
      "cell_type": "code",
      "execution_count": null,
      "metadata": {
        "id": "mlAYgIShy4Oe"
      },
      "outputs": [],
      "source": []
    },
    {
      "cell_type": "markdown",
      "metadata": {
        "id": "HMUDlnzZJkqx"
      },
      "source": [
        "![image](https://media.geeksforgeeks.org/wp-content/uploads/20191023173512/Python-data-structure.jpg)\n",
        "\n",
        "credit: https://www.geeksforgeeks.org/"
      ]
    },
    {
      "cell_type": "markdown",
      "metadata": {
        "id": "JtjQSTASy4Oe"
      },
      "source": [
        "![mutable/immutable objects](https://miro.medium.com/max/1316/1*uFlTNY4W3czywyU18zxl8w.png)\n",
        "\n",
        "credit: https://medium.com/@meghamohan/mutable-and-immutable-side-of-python-c2145cf72747"
      ]
    },
    {
      "cell_type": "markdown",
      "metadata": {
        "id": "WF0c72S0Jkqy"
      },
      "source": [
        "___\n",
        "## Karakter Dizileri ( Strings )"
      ]
    },
    {
      "cell_type": "code",
      "execution_count": null,
      "metadata": {
        "colab": {
          "base_uri": "https://localhost:8080/",
          "height": 34
        },
        "id": "WK9Tyo8qJkqz",
        "outputId": "ae2e270b-aec3-4557-f5eb-21ef680e7718"
      },
      "outputs": [
        {
          "data": {
            "text/plain": [
              "'c'"
            ]
          },
          "execution_count": 1,
          "metadata": {},
          "output_type": "execute_result"
        }
      ],
      "source": [
        "'c'"
      ]
    },
    {
      "cell_type": "code",
      "execution_count": null,
      "metadata": {
        "id": "2u69GOy6Jkq5",
        "outputId": "24db2efe-0aaf-41c1-b419-267304b31e80"
      },
      "outputs": [
        {
          "data": {
            "text/plain": [
              "' '"
            ]
          },
          "execution_count": 2,
          "metadata": {},
          "output_type": "execute_result"
        }
      ],
      "source": [
        "' '\n",
        "\n",
        "\" \"\n",
        "\n",
        "\"\"\" \"\"\""
      ]
    },
    {
      "cell_type": "code",
      "execution_count": null,
      "metadata": {
        "id": "bB2TZmfXJkq7",
        "outputId": "de51e0e2-2317-4a89-ac92-dd8cd7826073"
      },
      "outputs": [
        {
          "data": {
            "text/plain": [
              "'Hello World'"
            ]
          },
          "execution_count": 3,
          "metadata": {},
          "output_type": "execute_result"
        }
      ],
      "source": [
        "\"Hello World\""
      ]
    },
    {
      "cell_type": "code",
      "execution_count": null,
      "metadata": {
        "id": "2x4g3wh6Jkq9",
        "outputId": "12867507-2d3f-4a22-c98e-ccc697da23eb"
      },
      "outputs": [
        {
          "data": {
            "text/plain": [
              "'\\nLorem \\nipsum\\n'"
            ]
          },
          "execution_count": 4,
          "metadata": {},
          "output_type": "execute_result"
        }
      ],
      "source": [
        "\"\"\"\n",
        "Lorem\n",
        "ipsum\n",
        "\"\"\""
      ]
    },
    {
      "cell_type": "code",
      "execution_count": null,
      "metadata": {
        "id": "aYSkdveQJkq_",
        "outputId": "f0df3a6d-9081-456e-e7a6-19f5a4adf361"
      },
      "outputs": [
        {
          "data": {
            "text/plain": [
              "str"
            ]
          },
          "execution_count": 5,
          "metadata": {},
          "output_type": "execute_result"
        }
      ],
      "source": [
        "type('Lorem ipsum')"
      ]
    },
    {
      "cell_type": "code",
      "execution_count": null,
      "metadata": {
        "id": "f3hIC_cTJkrB",
        "outputId": "74db4ed3-c17e-47ab-a96a-a850e7fb413f"
      },
      "outputs": [
        {
          "data": {
            "text/plain": [
              "'Lorem ipsum'"
            ]
          },
          "execution_count": 6,
          "metadata": {},
          "output_type": "execute_result"
        }
      ],
      "source": [
        "\"Lorem\" +  \" \" + \"ipsum\""
      ]
    },
    {
      "cell_type": "code",
      "execution_count": null,
      "metadata": {
        "id": "wFsjpwIsJkrE",
        "outputId": "3c9a56ae-a4fa-4ecc-c05d-527a0fac516d"
      },
      "outputs": [
        {
          "data": {
            "text/plain": [
              "'Python bir proglama dilidir.'"
            ]
          },
          "execution_count": 7,
          "metadata": {},
          "output_type": "execute_result"
        }
      ],
      "source": [
        "\"Python\" \" \" \"bir\" \" \" \"proglama\" \" \" \"dilidir.\""
      ]
    },
    {
      "cell_type": "markdown",
      "metadata": {
        "id": "vQse1DFIJkrI"
      },
      "source": [
        "___\n",
        "## Sayılar ( Numbers )"
      ]
    },
    {
      "cell_type": "code",
      "execution_count": null,
      "metadata": {
        "id": "vHy6mIU1JkrI",
        "outputId": "5408119f-68b1-4303-f2f9-d4a835a23950"
      },
      "outputs": [
        {
          "data": {
            "text/plain": [
              "int"
            ]
          },
          "execution_count": 8,
          "metadata": {},
          "output_type": "execute_result"
        }
      ],
      "source": [
        "type(123)"
      ]
    },
    {
      "cell_type": "code",
      "execution_count": null,
      "metadata": {
        "id": "quas3r0gJkrK",
        "outputId": "fcb126cf-9062-4a62-be8d-f97aa502e1da"
      },
      "outputs": [
        {
          "data": {
            "text/plain": [
              "float"
            ]
          },
          "execution_count": 9,
          "metadata": {},
          "output_type": "execute_result"
        }
      ],
      "source": [
        "type(22.3)"
      ]
    },
    {
      "cell_type": "code",
      "execution_count": null,
      "metadata": {
        "id": "Ah4oWZ2QJkrM",
        "outputId": "e7475730-c2ae-4129-e070-5baae8ce4478"
      },
      "outputs": [
        {
          "data": {
            "text/plain": [
              "complex"
            ]
          },
          "execution_count": 10,
          "metadata": {},
          "output_type": "execute_result"
        }
      ],
      "source": [
        "type(7+2j)"
      ]
    },
    {
      "cell_type": "markdown",
      "metadata": {
        "id": "LC5-o1chJkrO"
      },
      "source": [
        "___\n",
        "## Aritmetik Oparatörler ( Arithmetic Operators )"
      ]
    },
    {
      "cell_type": "code",
      "execution_count": null,
      "metadata": {
        "id": "ECFbr1XuJkrO",
        "outputId": "a8c4d645-1fea-4ecc-b4d8-bcdcb871a485"
      },
      "outputs": [
        {
          "data": {
            "text/plain": [
              "45"
            ]
          },
          "execution_count": 11,
          "metadata": {},
          "output_type": "execute_result"
        }
      ],
      "source": [
        "100 - 55"
      ]
    },
    {
      "cell_type": "code",
      "execution_count": null,
      "metadata": {
        "id": "wZsYupFqJkrQ",
        "outputId": "d0753705-e7eb-4fa4-dfc3-0e265404b27d"
      },
      "outputs": [
        {
          "data": {
            "text/plain": [
              "3.3"
            ]
          },
          "execution_count": 12,
          "metadata": {},
          "output_type": "execute_result"
        }
      ],
      "source": [
        "4.5 - 1.2"
      ]
    },
    {
      "cell_type": "code",
      "execution_count": null,
      "metadata": {
        "id": "gKx04jX5JkrS",
        "outputId": "165db5d3-dcbf-4cb2-ee54-d0a4a83d58c8"
      },
      "outputs": [
        {
          "data": {
            "text/plain": [
              "9.0"
            ]
          },
          "execution_count": 13,
          "metadata": {},
          "output_type": "execute_result"
        }
      ],
      "source": [
        "4.5 * 2"
      ]
    },
    {
      "cell_type": "code",
      "execution_count": null,
      "metadata": {
        "id": "3m1dbTPRJkrU",
        "outputId": "bc53572f-0661-4e17-c21b-132ddf45ec48"
      },
      "outputs": [
        {
          "data": {
            "text/plain": [
              "5.0"
            ]
          },
          "execution_count": 14,
          "metadata": {},
          "output_type": "execute_result"
        }
      ],
      "source": [
        "10 / 2"
      ]
    },
    {
      "cell_type": "code",
      "execution_count": null,
      "metadata": {
        "id": "GkaKS_zyJkrW",
        "outputId": "04986635-22c4-49e3-9ebb-2afd01a3df67"
      },
      "outputs": [
        {
          "data": {
            "text/plain": [
              "16"
            ]
          },
          "execution_count": 15,
          "metadata": {},
          "output_type": "execute_result"
        }
      ],
      "source": [
        "4**2"
      ]
    },
    {
      "cell_type": "code",
      "execution_count": null,
      "metadata": {
        "id": "x8nFQ7-2JkrY",
        "outputId": "c44a0df9-777f-4c8d-cfdc-c1ef0dfd68fe"
      },
      "outputs": [
        {
          "data": {
            "text/plain": [
              "1"
            ]
          },
          "execution_count": 16,
          "metadata": {},
          "output_type": "execute_result"
        }
      ],
      "source": [
        "10 % 3"
      ]
    },
    {
      "cell_type": "code",
      "execution_count": null,
      "metadata": {
        "id": "GkuRzYdiJkra",
        "outputId": "a75da6b1-7180-411e-9345-405bd5b451cb"
      },
      "outputs": [
        {
          "data": {
            "text/plain": [
              "3"
            ]
          },
          "execution_count": 17,
          "metadata": {},
          "output_type": "execute_result"
        }
      ],
      "source": [
        "10 // 3"
      ]
    },
    {
      "cell_type": "code",
      "execution_count": null,
      "metadata": {
        "id": "HiVV2JdBJkrc",
        "outputId": "3581b2ed-7581-43d5-a311-b87de8c90675"
      },
      "outputs": [
        {
          "data": {
            "text/plain": [
              "25"
            ]
          },
          "execution_count": 18,
          "metadata": {},
          "output_type": "execute_result"
        }
      ],
      "source": [
        "pow(5, 2)"
      ]
    },
    {
      "cell_type": "code",
      "execution_count": null,
      "metadata": {
        "id": "pvzE9wvCJkre",
        "outputId": "58d6d26f-6833-474d-eadb-16b17a5f5507"
      },
      "outputs": [
        {
          "data": {
            "text/plain": [
              "int"
            ]
          },
          "execution_count": 19,
          "metadata": {},
          "output_type": "execute_result"
        }
      ],
      "source": [
        "type(2020)"
      ]
    },
    {
      "cell_type": "code",
      "execution_count": null,
      "metadata": {
        "id": "j2O1BKgfJkrG",
        "outputId": "6864fbaf-736e-4b1b-e9eb-dc53483e78cc"
      },
      "outputs": [
        {
          "data": {
            "text/plain": [
              "'PythonPython'"
            ]
          },
          "execution_count": 20,
          "metadata": {},
          "output_type": "execute_result"
        }
      ],
      "source": [
        "\"Python\"*2"
      ]
    },
    {
      "cell_type": "markdown",
      "metadata": {
        "id": "OS_gd-AjJkry"
      },
      "source": [
        "___\n",
        "## Değişkenler ( Variables )"
      ]
    },
    {
      "cell_type": "code",
      "execution_count": null,
      "metadata": {
        "id": "NVU2uRsKJkry"
      },
      "outputs": [],
      "source": [
        "değişken1 = 112\n",
        "değişken2 = 155"
      ]
    },
    {
      "cell_type": "code",
      "execution_count": null,
      "metadata": {
        "id": "YtzLclPYJkr0",
        "outputId": "4ceb4c5a-8c30-41b1-a9d7-13683061d0ed"
      },
      "outputs": [
        {
          "data": {
            "text/plain": [
              "112"
            ]
          },
          "execution_count": 22,
          "metadata": {},
          "output_type": "execute_result"
        }
      ],
      "source": [
        "değişken1"
      ]
    },
    {
      "cell_type": "code",
      "execution_count": null,
      "metadata": {
        "id": "S_l93AIwJkr2"
      },
      "outputs": [],
      "source": [
        "değişken1, değişken2 = değişken2, değişken1"
      ]
    },
    {
      "cell_type": "code",
      "execution_count": null,
      "metadata": {
        "id": "rjy2dTpmJkr3",
        "outputId": "525615f2-6ac4-41d8-8d1e-537084d9b342"
      },
      "outputs": [
        {
          "data": {
            "text/plain": [
              "155"
            ]
          },
          "execution_count": 24,
          "metadata": {},
          "output_type": "execute_result"
        }
      ],
      "source": [
        "değişken1"
      ]
    },
    {
      "cell_type": "code",
      "execution_count": null,
      "metadata": {
        "id": "blSdUaiwJkrh"
      },
      "outputs": [],
      "source": [
        "saatlik_ücret = 10\n",
        "haftalık_çalışma_saati = 40"
      ]
    },
    {
      "cell_type": "code",
      "execution_count": null,
      "metadata": {
        "id": "w84b9N1iJkrj",
        "outputId": "b7810e6d-af30-4dd1-ed5f-f7628fe1bccc"
      },
      "outputs": [
        {
          "data": {
            "text/plain": [
              "400"
            ]
          },
          "execution_count": 26,
          "metadata": {},
          "output_type": "execute_result"
        }
      ],
      "source": [
        "maaş = haftalık_çalışma_saati * saatlik_ücret\n",
        "maaş"
      ]
    },
    {
      "cell_type": "code",
      "execution_count": null,
      "metadata": {
        "id": "ipZ5R5XpJkrk"
      },
      "outputs": [],
      "source": [
        "username = \"admin\""
      ]
    },
    {
      "cell_type": "code",
      "execution_count": null,
      "metadata": {
        "id": "RWhzoaoNJkrn"
      },
      "outputs": [],
      "source": [
        "password = \"password\""
      ]
    },
    {
      "cell_type": "code",
      "execution_count": null,
      "metadata": {
        "id": "bJ-h6zLIJkrp",
        "outputId": "4cee59eb-d5ea-4c5e-b5b8-9973acd69d28"
      },
      "outputs": [
        {
          "data": {
            "text/plain": [
              "5"
            ]
          },
          "execution_count": 29,
          "metadata": {},
          "output_type": "execute_result"
        }
      ],
      "source": [
        "len(username)"
      ]
    },
    {
      "cell_type": "code",
      "execution_count": null,
      "metadata": {
        "id": "bhiKQN4QJkrr",
        "outputId": "e64bfb95-b1ba-4568-d07e-9dd0d09481ed"
      },
      "outputs": [
        {
          "data": {
            "text/plain": [
              "13"
            ]
          },
          "execution_count": 30,
          "metadata": {},
          "output_type": "execute_result"
        }
      ],
      "source": [
        "len(username) + len(password)"
      ]
    },
    {
      "cell_type": "code",
      "execution_count": null,
      "metadata": {
        "id": "0h-Svli1Jkrt",
        "outputId": "946849bb-c93a-4157-c29f-2196071ba4e8"
      },
      "outputs": [
        {
          "name": "stdout",
          "output_type": "stream",
          "text": [
            "10\n",
            "5\n",
            "25\n",
            "5.0\n",
            "25.0\n",
            "6.0\n",
            "1.0\n"
          ]
        }
      ],
      "source": [
        "sayı = 5\n",
        "# 5\n",
        "\n",
        "sayı += 5\n",
        "print(sayı)\n",
        "# 10\n",
        "\n",
        "sayı -= 5\n",
        "print(sayı)\n",
        "# 5\n",
        "\n",
        "sayı *= 5\n",
        "print(sayı)\n",
        "# 25\n",
        "\n",
        "sayı /= 5\n",
        "print(sayı)\n",
        "# 5.0\n",
        "\n",
        "sayı **= 2\n",
        "print(sayı)\n",
        "# 25.0\n",
        "\n",
        "sayı //= 4\n",
        "print(sayı)\n",
        "# 6.0\n",
        "\n",
        "sayı %= 5\n",
        "print(sayı)\n",
        "# 1.0"
      ]
    },
    {
      "cell_type": "code",
      "execution_count": null,
      "metadata": {
        "id": "XZ3euUGuJkru",
        "outputId": "d6f35785-4dfc-4bc2-934b-142dc4d3c3b0"
      },
      "outputs": [
        {
          "data": {
            "text/plain": [
              "['False',\n",
              " 'None',\n",
              " 'True',\n",
              " 'and',\n",
              " 'as',\n",
              " 'assert',\n",
              " 'async',\n",
              " 'await',\n",
              " 'break',\n",
              " 'class',\n",
              " 'continue',\n",
              " 'def',\n",
              " 'del',\n",
              " 'elif',\n",
              " 'else',\n",
              " 'except',\n",
              " 'finally',\n",
              " 'for',\n",
              " 'from',\n",
              " 'global',\n",
              " 'if',\n",
              " 'import',\n",
              " 'in',\n",
              " 'is',\n",
              " 'lambda',\n",
              " 'nonlocal',\n",
              " 'not',\n",
              " 'or',\n",
              " 'pass',\n",
              " 'raise',\n",
              " 'return',\n",
              " 'try',\n",
              " 'while',\n",
              " 'with',\n",
              " 'yield']"
            ]
          },
          "execution_count": 32,
          "metadata": {},
          "output_type": "execute_result"
        }
      ],
      "source": [
        "#anahtar kelimeler\n",
        "import keyword\n",
        "keyword.kwlist"
      ]
    },
    {
      "cell_type": "markdown",
      "metadata": {
        "id": "oXefclbtJkr5"
      },
      "source": [
        "___\n",
        "## Print Fonksiyonu"
      ]
    },
    {
      "cell_type": "code",
      "execution_count": null,
      "metadata": {
        "id": "B-RJ5VRey4O5",
        "outputId": "56b85e50-bc17-4aa3-f3db-062e7f574533"
      },
      "outputs": [
        {
          "name": "stdout",
          "output_type": "stream",
          "text": [
            "Hello World\n"
          ]
        }
      ],
      "source": [
        "print(\"Hello World\")"
      ]
    },
    {
      "cell_type": "code",
      "execution_count": null,
      "metadata": {
        "id": "zMyB-Ss8Jkr5",
        "outputId": "ff9d5dfb-6fef-40e0-c6d2-d4897a01da44"
      },
      "outputs": [
        {
          "name": "stdout",
          "output_type": "stream",
          "text": [
            "Lorem Ipsum is simply dummy text\n"
          ]
        }
      ],
      "source": [
        "print(\"Lorem\", \"Ipsum\", \"is\", \"simply\", \"dummy\", \"text\")"
      ]
    },
    {
      "cell_type": "code",
      "execution_count": null,
      "metadata": {
        "id": "WjIT8y4NJkr7",
        "outputId": "479e9f3c-dfbc-4413-f153-6546602ec080"
      },
      "outputs": [
        {
          "name": "stdout",
          "output_type": "stream",
          "text": [
            "Lorem Ipsum is simply dummy text\n"
          ]
        }
      ],
      "source": [
        "print(\"Lorem Ipsum is simply dummy text\", sep=\" \", end=\"\\n\")"
      ]
    },
    {
      "cell_type": "code",
      "execution_count": null,
      "metadata": {
        "id": "zzrxTH1xJkr9",
        "outputId": "a1cfdf94-56bb-44d9-8c07-43eb8de64122"
      },
      "outputs": [
        {
          "name": "stdout",
          "output_type": "stream",
          "text": [
            "Lorem-Ipsum-is-simply-dummy-text\n"
          ]
        }
      ],
      "source": [
        "print(\"Lorem\", \"Ipsum\", \"is\", \"simply\", \"dummy\", \"text\", sep=\"-\", end=\"\\n\")"
      ]
    },
    {
      "cell_type": "code",
      "execution_count": null,
      "metadata": {
        "id": "PXC2avEeJkr-",
        "outputId": "04732c5f-0198-45a6-fb9f-0f8dba74279a"
      },
      "outputs": [
        {
          "name": "stdout",
          "output_type": "stream",
          "text": [
            "Lorem-py-Ipsum-py-is-py-simply-py-dummy-py-text!!"
          ]
        }
      ],
      "source": [
        "print(\"Lorem\", \"Ipsum\", \"is\", \"simply\", \"dummy\", \"text\", sep=\"-py-\", end=\"!!\")"
      ]
    },
    {
      "cell_type": "code",
      "execution_count": null,
      "metadata": {
        "id": "ReIClT58JksB",
        "outputId": "4c675581-62bc-4252-d23a-fa52fc2d56e6"
      },
      "outputs": [
        {
          "name": "stdout",
          "output_type": "stream",
          "text": [
            "L-o-r-e-m- -i-p-s-u-m\n"
          ]
        }
      ],
      "source": [
        "print(*\"Lorem ipsum\", sep=\"-\")"
      ]
    },
    {
      "cell_type": "code",
      "execution_count": null,
      "metadata": {
        "id": "1bWuHVxxJksD",
        "outputId": "9f2d301f-77fc-464c-aaa2-9d00a07a877d"
      },
      "outputs": [
        {
          "name": "stdout",
          "output_type": "stream",
          "text": [
            "Ölü Ozanlar Derneği 1989\n"
          ]
        }
      ],
      "source": [
        "print(\"Ölü\", \"Ozanlar\", \"Derneği\", 1989)"
      ]
    },
    {
      "cell_type": "code",
      "execution_count": null,
      "metadata": {
        "id": "W2Qxkm6DJksF",
        "outputId": "92d8f60f-3265-4fb2-9f81-b7246ff74fd4"
      },
      "outputs": [
        {
          "name": "stdout",
          "output_type": "stream",
          "text": [
            "Python is an interpreted, high-level, general-purpose programming language. Created by Guido van Rossum and first released in 1991, Python has a design philosophy that emphasizes code readability, notably using significant whitespace. It provides constructs that enable clear programming on both small and large scales. \n"
          ]
        }
      ],
      "source": [
        "print(\"Python is an interpreted, high-level, general-purpose programming language. Created by Guido van Rossum and first released in 1991, Python has a design philosophy that emphasizes code readability, notably using significant whitespace. It provides constructs that enable clear programming on both small and large scales. \")"
      ]
    },
    {
      "cell_type": "code",
      "execution_count": null,
      "metadata": {
        "id": "4O1dUaSLJksH",
        "outputId": "08203391-1117-4217-f8ab-38e3054ba1c6"
      },
      "outputs": [
        {
          "ename": "SyntaxError",
          "evalue": "EOL while scanning string literal (<ipython-input-43-87d73e5ebdc7>, line 1)",
          "output_type": "error",
          "traceback": [
            "\u001b[1;36m  File \u001b[1;32m\"<ipython-input-43-87d73e5ebdc7>\"\u001b[1;36m, line \u001b[1;32m1\u001b[0m\n\u001b[1;33m    print(\"Ölü\u001b[0m\n\u001b[1;37m               ^\u001b[0m\n\u001b[1;31mSyntaxError\u001b[0m\u001b[1;31m:\u001b[0m EOL while scanning string literal\n"
          ]
        }
      ],
      "source": [
        "print(\"Ölü\n",
        "      Ozanlar\n",
        "      Derneği\")"
      ]
    },
    {
      "cell_type": "code",
      "execution_count": null,
      "metadata": {
        "id": "Whp0QyTfJksJ",
        "outputId": "bc749aff-ddb4-4a63-dc7d-8afa8266bdff"
      },
      "outputs": [
        {
          "name": "stdout",
          "output_type": "stream",
          "text": [
            "Ölü \n",
            "Ozanlar \n",
            "Derneği\n"
          ]
        }
      ],
      "source": [
        "print(\"\"\"Ölü\n",
        "Ozanlar\n",
        "Derneği\"\"\")"
      ]
    },
    {
      "cell_type": "code",
      "execution_count": null,
      "metadata": {
        "id": "c0pdZlIWJksM",
        "outputId": "4c31226e-24b9-4c73-c92f-1f2a2d58ad30"
      },
      "outputs": [
        {
          "name": "stdout",
          "output_type": "stream",
          "text": [
            "\"Dünya Güneş Venüs Mars\"\n"
          ]
        }
      ],
      "source": [
        "print(\"\\\"Dünya Güneş Venüs Mars\\\"\")"
      ]
    },
    {
      "cell_type": "code",
      "execution_count": null,
      "metadata": {
        "id": "n1ItmqInJksO",
        "outputId": "0895d08c-bd19-471a-e39b-5c1659bb6e3c"
      },
      "outputs": [
        {
          "name": "stdout",
          "output_type": "stream",
          "text": [
            "Gül sokak 10\\7 Merkez\\Niğde\n"
          ]
        }
      ],
      "source": [
        "print(\"Gül sokak 10\\\\7 Merkez\\\\Niğde\")"
      ]
    },
    {
      "cell_type": "code",
      "execution_count": null,
      "metadata": {
        "id": "VvH7DFFsJksP",
        "outputId": "c559813b-deb9-4997-a926-8e56a883f81f"
      },
      "outputs": [
        {
          "name": "stdout",
          "output_type": "stream",
          "text": [
            "Yeni\n"
          ]
        }
      ],
      "source": [
        "print(\"Eski Satırbaşı\\rYeni\")"
      ]
    },
    {
      "cell_type": "code",
      "execution_count": null,
      "metadata": {
        "id": "Kcdy2EF8JksQ",
        "outputId": "d0bb0554-ed91-4ba0-9aca-ca28237052e9"
      },
      "outputs": [
        {
          "name": "stdout",
          "output_type": "stream",
          "text": [
            "Birkaç boşluk\taralık\n"
          ]
        }
      ],
      "source": [
        "print(\"Birkaç boşluk\\taralık\")"
      ]
    },
    {
      "cell_type": "code",
      "execution_count": null,
      "metadata": {
        "id": "Ar-0fpLsy4O8",
        "outputId": "ee04f787-7006-45a9-d69d-cdeafa53b870"
      },
      "outputs": [
        {
          "name": "stdout",
          "output_type": "stream",
          "text": [
            "\\nMerhaba\\tDünya\\r\\\\\n"
          ]
        }
      ],
      "source": [
        "print(r\"\\nMerhaba\\tDünya\\r\\\\\")"
      ]
    },
    {
      "cell_type": "markdown",
      "metadata": {
        "id": "3B7tlffyJksS"
      },
      "source": [
        "___\n",
        "## Kullanıcıdan Veri Almak ( input() )"
      ]
    },
    {
      "cell_type": "code",
      "execution_count": null,
      "metadata": {
        "id": "dkLi7oGXJksS",
        "outputId": "06553c92-0d88-45a2-de30-69053c41e8d3"
      },
      "outputs": [
        {
          "name": "stdout",
          "output_type": "stream",
          "text": [
            "İsminiz: Sevdanur\n",
            "Yaşınız: 39\n",
            "Sevdanur 39\n"
          ]
        }
      ],
      "source": [
        "isim = input(\"İsminiz: \")\n",
        "yaş = input(\"Yaşınız: \")\n",
        "print(isim, yaş)"
      ]
    },
    {
      "cell_type": "code",
      "execution_count": null,
      "metadata": {
        "id": "rn36GmZeJksT",
        "outputId": "01b68632-0f06-45ea-af55-fb094568c0bd"
      },
      "outputs": [
        {
          "ename": "TypeError",
          "evalue": "can only concatenate str (not \"int\") to str",
          "output_type": "error",
          "traceback": [
            "\u001b[1;31m---------------------------------------------------------------------------\u001b[0m",
            "\u001b[1;31mTypeError\u001b[0m                                 Traceback (most recent call last)",
            "\u001b[1;32m<ipython-input-51-140bed50b6ad>\u001b[0m in \u001b[0;36m<module>\u001b[1;34m\u001b[0m\n\u001b[1;32m----> 1\u001b[1;33m \u001b[0myaş\u001b[0m \u001b[1;33m+\u001b[0m \u001b[1;36m10\u001b[0m\u001b[1;33m\u001b[0m\u001b[1;33m\u001b[0m\u001b[0m\n\u001b[0m",
            "\u001b[1;31mTypeError\u001b[0m: can only concatenate str (not \"int\") to str"
          ]
        }
      ],
      "source": [
        "yaş + 10"
      ]
    },
    {
      "cell_type": "code",
      "execution_count": null,
      "metadata": {
        "id": "khSPjLXwJksV",
        "outputId": "9aaa43ad-fb82-4ada-e831-5c167f835a99"
      },
      "outputs": [
        {
          "data": {
            "text/plain": [
              "str"
            ]
          },
          "execution_count": 52,
          "metadata": {},
          "output_type": "execute_result"
        }
      ],
      "source": [
        "type(yaş)"
      ]
    },
    {
      "cell_type": "markdown",
      "metadata": {
        "id": "mq-btx0zJksY"
      },
      "source": [
        "___\n",
        "## Tip Dönüşümleri ( Type Casting )"
      ]
    },
    {
      "cell_type": "code",
      "execution_count": null,
      "metadata": {
        "id": "pl9GcoiSJksY",
        "outputId": "1f32c7cd-263b-42ea-e16d-3a9fea5c2322"
      },
      "outputs": [
        {
          "name": "stdout",
          "output_type": "stream",
          "text": [
            "49\n",
            "<class 'int'>\n"
          ]
        }
      ],
      "source": [
        "yaş = int(yaş) + 10\n",
        "print(yaş)\n",
        "print(type(yaş))"
      ]
    },
    {
      "cell_type": "code",
      "execution_count": null,
      "metadata": {
        "id": "GT0_jzMIJksb",
        "outputId": "3d9227e6-10b8-4836-d097-030bfad5052a"
      },
      "outputs": [
        {
          "name": "stdout",
          "output_type": "stream",
          "text": [
            "54.5\n",
            "<class 'float'>\n"
          ]
        }
      ],
      "source": [
        "yaş = float(yaş) + 5.5\n",
        "print(yaş)\n",
        "print(type(yaş))"
      ]
    },
    {
      "cell_type": "code",
      "execution_count": null,
      "metadata": {
        "id": "tM7yyV_pJksd",
        "outputId": "3c4707b3-9337-406d-972c-4f7172e7af77"
      },
      "outputs": [
        {
          "name": "stdout",
          "output_type": "stream",
          "text": [
            "Sevdanur 54.5 yaşında!\n"
          ]
        }
      ],
      "source": [
        "print(isim + \" \" + str(yaş) + \" yaşında!\")"
      ]
    },
    {
      "cell_type": "code",
      "execution_count": null,
      "metadata": {
        "id": "A968qrVFJksf",
        "outputId": "c83a5436-5293-4748-9248-7785494dce59"
      },
      "outputs": [
        {
          "name": "stdout",
          "output_type": "stream",
          "text": [
            "Üs hesaplamak için\n",
            "Taban sayıyı girin: 10\n",
            "Üs sayıyı girin: 3\n",
            "10 ** 3 = 1000\n"
          ]
        }
      ],
      "source": [
        "print(\"Üs hesaplamak için\")\n",
        "sayı1 = int(input(\"Taban sayıyı girin: \"))\n",
        "sayı2 = int(input(\"Üs sayıyı girin: \"))\n",
        "print(sayı1, \"**\", sayı2, \"=\", pow(sayı1,sayı2))"
      ]
    },
    {
      "cell_type": "markdown",
      "metadata": {
        "id": "RhNAfn0yy4O-"
      },
      "source": [
        "___\n",
        "## Karakter Dizisi Biçimlendirme ( String Formatting )"
      ]
    },
    {
      "cell_type": "code",
      "execution_count": null,
      "metadata": {
        "id": "xLAdbedkJksh",
        "outputId": "35f7e9f5-4a3b-4eb1-de7b-213ec92ba667"
      },
      "outputs": [
        {
          "name": "stdout",
          "output_type": "stream",
          "text": [
            "Selam, benim adım 33 ve Sevdanur yaşındayım!\n"
          ]
        }
      ],
      "source": [
        "print(\"Selam, benim adım {1} ve {0} yaşındayım!\".format(isim, 33))"
      ]
    },
    {
      "cell_type": "code",
      "execution_count": null,
      "metadata": {
        "id": "TQgVS2PPJksi",
        "outputId": "b4375ec6-24ea-4d4b-f83e-9f36d9f4fbc2"
      },
      "outputs": [
        {
          "name": "stdout",
          "output_type": "stream",
          "text": [
            "Selam, benim adım Sevdanur ve 44.5 yaşındayım!\n"
          ]
        }
      ],
      "source": [
        "print(f\"Selam, benim adım {isim} ve {yaş-10} yaşındayım!\")"
      ]
    },
    {
      "cell_type": "markdown",
      "metadata": {
        "id": "mHnlKy80y4O-"
      },
      "source": [
        "## Karakter Dizilerinin Methotları ( String Methods )"
      ]
    },
    {
      "cell_type": "code",
      "execution_count": null,
      "metadata": {
        "id": "RbUcubFiJkt5"
      },
      "outputs": [],
      "source": [
        "string = 'Hikmet ÖZBEN'"
      ]
    },
    {
      "cell_type": "code",
      "execution_count": null,
      "metadata": {
        "id": "11EJ2W5xJkt6",
        "outputId": "7aa66776-ccf8-47d5-adee-7478c7fff96c"
      },
      "outputs": [
        {
          "name": "stdout",
          "output_type": "stream",
          "text": [
            "H\n"
          ]
        }
      ],
      "source": [
        "print(string[0])"
      ]
    },
    {
      "cell_type": "code",
      "execution_count": null,
      "metadata": {
        "id": "QHzrJbz-Jkt7",
        "outputId": "3f71724e-1dda-4bc1-bbaf-e8b9f2553ddf"
      },
      "outputs": [
        {
          "name": "stdout",
          "output_type": "stream",
          "text": [
            "Hikm\n",
            "Hikmet ÖZBEN\n",
            "Hke ZE\n"
          ]
        }
      ],
      "source": [
        "print(string[0:4])\n",
        "print(string[0:len(string)])\n",
        "print(string[0:len(string):2])"
      ]
    },
    {
      "cell_type": "code",
      "execution_count": null,
      "metadata": {
        "id": "blONGE1PJkt_",
        "outputId": "3d42d7fd-8ae7-43db-f408-8fd87e423b4a"
      },
      "outputs": [
        {
          "name": "stdout",
          "output_type": "stream",
          "text": [
            "hikmet özben\n",
            "HIKMET ÖZBEN\n"
          ]
        }
      ],
      "source": [
        "print(string.lower())\n",
        "print(string.upper())"
      ]
    },
    {
      "cell_type": "code",
      "execution_count": null,
      "metadata": {
        "id": "5W0OEZHhJkuA",
        "outputId": "11983a40-d997-4154-a84e-84bfc463298d"
      },
      "outputs": [
        {
          "name": "stdout",
          "output_type": "stream",
          "text": [
            "Hikmet ÖZBEN\n",
            "Hikmet BENOL\n",
            "Turgut BENOL\n"
          ]
        }
      ],
      "source": [
        "print(string)\n",
        "\n",
        "string = string.replace('ÖZBEN', 'BENOL')\n",
        "print(string)\n",
        "\n",
        "string = string.replace('Hikmet', 'Turgut')\n",
        "print(string)"
      ]
    },
    {
      "cell_type": "code",
      "execution_count": null,
      "metadata": {
        "id": "7e5Q7Q-pJkuB",
        "outputId": "f02d3f8a-a433-48b8-e143-74f4ec91bb69"
      },
      "outputs": [
        {
          "name": "stdout",
          "output_type": "stream",
          "text": [
            "False\n",
            "True\n"
          ]
        }
      ],
      "source": [
        "print(\"A\".islower())\n",
        "print(\"A\".isupper())"
      ]
    },
    {
      "cell_type": "code",
      "execution_count": null,
      "metadata": {
        "id": "R5eCZqgcJkuD",
        "outputId": "bd43683a-a356-4821-8182-ccbc44aff899"
      },
      "outputs": [
        {
          "name": "stdout",
          "output_type": "stream",
          "text": [
            "False\n",
            "True\n"
          ]
        }
      ],
      "source": [
        "print(string.startswith('Hikmet'))\n",
        "print(string.endswith('OL'))"
      ]
    },
    {
      "cell_type": "code",
      "execution_count": null,
      "metadata": {
        "id": "xgXTiG3nJkuE",
        "outputId": "e73871a7-88bd-4474-f01e-4baa6466d62c"
      },
      "outputs": [
        {
          "data": {
            "text/plain": [
              "['Turgut', 'BENOL']"
            ]
          },
          "execution_count": 137,
          "metadata": {},
          "output_type": "execute_result"
        }
      ],
      "source": [
        "string.split(\" \")"
      ]
    },
    {
      "cell_type": "code",
      "execution_count": null,
      "metadata": {
        "id": "vkHYejIQJkuG",
        "outputId": "d40b693f-8750-40fa-ac88-f7888d9f1b63"
      },
      "outputs": [
        {
          "name": "stdout",
          "output_type": "stream",
          "text": [
            "Turgutcum BENOL\n"
          ]
        }
      ],
      "source": [
        "string = string.split()\n",
        "string = \"cum \".join(string)\n",
        "print(string)"
      ]
    },
    {
      "cell_type": "code",
      "execution_count": null,
      "metadata": {
        "id": "uKzCcZ03JkuH",
        "outputId": "762dbe25-7c2a-4da5-8c9c-aeca52f66b8d"
      },
      "outputs": [
        {
          "name": "stdout",
          "output_type": "stream",
          "text": [
            "['Merkür', 'Venüs', 'Dünya', 'Mars', 'Jüpiter', 'Satürn', 'Uranüs', 'Neptün']\n",
            "Venüs - Uranüs - Satürn - Neptün - Merkür - Mars - Jüpiter - Dünya\n"
          ]
        }
      ],
      "source": [
        "gezegenler = \"Merkür,Venüs,Dünya,Mars,Jüpiter,Satürn,Uranüs,Neptün\"\n",
        "gezegenler = gezegenler.split(\",\")\n",
        "print(gezegenler)\n",
        "\n",
        "sıralanmış_gezegenler = \" - \".join(sorted(gezegenler, reverse=True))\n",
        "\"\"\"\n",
        "sıralanmış_gezegenler = sorted(gezegenler)\n",
        "sıralanmış_gezegenler = sıralanmış_gezegenler[::-1]\n",
        "sıralanmış_gezgenler = \" - \".join(sıralanmış_gezegenler)\n",
        "print(sıralanmış_gezegenler)\n",
        "\"\"\"\n",
        "print(sıralanmış_gezegenler)\n"
      ]
    },
    {
      "cell_type": "code",
      "execution_count": null,
      "metadata": {
        "id": "LTBL28HTJkuI",
        "outputId": "c6cd1c65-92f5-40b7-c6b9-89d317d4038e"
      },
      "outputs": [
        {
          "data": {
            "text/plain": [
              "'Merkür Venüs Dünya Mars Jüpiter Satürn Uranüs Neptün'"
            ]
          },
          "execution_count": 140,
          "metadata": {},
          "output_type": "execute_result"
        }
      ],
      "source": [
        "gezegenler = \"     Merkür Venüs Dünya Mars Jüpiter Satürn Uranüs Neptün       \"\n",
        "gezegenler.strip()"
      ]
    },
    {
      "cell_type": "code",
      "execution_count": null,
      "metadata": {
        "id": "PJqqFF7OJkuJ",
        "outputId": "ceff2213-8c14-40f0-f037-b12d09dabed3"
      },
      "outputs": [
        {
          "data": {
            "text/plain": [
              "'     Merkür Venüs Dünya Mars Jüpiter Satürn Uranüs Neptün'"
            ]
          },
          "execution_count": 141,
          "metadata": {},
          "output_type": "execute_result"
        }
      ],
      "source": [
        "gezegenler = \"     Merkür Venüs Dünya Mars Jüpiter Satürn Uranüs Neptün       \"\n",
        "gezegenler.rstrip()"
      ]
    },
    {
      "cell_type": "markdown",
      "metadata": {
        "id": "TP_DK6NWy4PB"
      },
      "source": [
        "## Print Function"
      ]
    },
    {
      "cell_type": "code",
      "execution_count": null,
      "metadata": {
        "id": "-u79EGdny4PB",
        "outputId": "2c24c60e-a97d-4b55-d9d0-aeb61de63071"
      },
      "outputs": [
        {
          "name": "stdout",
          "output_type": "stream",
          "text": [
            "\n"
          ]
        }
      ],
      "source": [
        "print()"
      ]
    },
    {
      "cell_type": "code",
      "execution_count": null,
      "metadata": {
        "id": "Ur4b6Rs3y4PB",
        "outputId": "1c28190e-96b4-4b6a-a520-94d8295edce7"
      },
      "outputs": [
        {
          "name": "stdout",
          "output_type": "stream",
          "text": [
            "10\n"
          ]
        }
      ],
      "source": [
        "print(4+6)"
      ]
    },
    {
      "cell_type": "code",
      "execution_count": null,
      "metadata": {
        "id": "AowYU0jOy4PB",
        "outputId": "19d033f5-bb49-4488-8d85-9ff4b5665a0b"
      },
      "outputs": [
        {
          "name": "stdout",
          "output_type": "stream",
          "text": [
            "7\n"
          ]
        }
      ],
      "source": [
        "print(7)"
      ]
    },
    {
      "cell_type": "code",
      "execution_count": null,
      "metadata": {
        "id": "z7HCccbRy4PB",
        "outputId": "0ecd6ce9-459b-408a-b344-b2b17b0e78ca"
      },
      "outputs": [
        {
          "name": "stdout",
          "output_type": "stream",
          "text": [
            "7\n"
          ]
        }
      ],
      "source": [
        "print(\"7\")"
      ]
    },
    {
      "cell_type": "code",
      "execution_count": null,
      "metadata": {
        "colab": {
          "base_uri": "https://localhost:8080/",
          "height": 35
        },
        "id": "NGB3j3LcdcbR",
        "outputId": "0e918c86-4b77-4d7c-c10f-e1a972106d00"
      },
      "outputs": [
        {
          "name": "stdout",
          "output_type": "stream",
          "text": [
            "Hello World\n"
          ]
        }
      ],
      "source": [
        "print(\"Hello World\")  #printing strings"
      ]
    },
    {
      "cell_type": "code",
      "execution_count": null,
      "metadata": {
        "colab": {
          "base_uri": "https://localhost:8080/",
          "height": 35
        },
        "id": "luSgefSQgFrV",
        "outputId": "4877f177-6614-41be-a626-80cc01087900"
      },
      "outputs": [
        {
          "name": "stdout",
          "output_type": "stream",
          "text": [
            "Hello World\n"
          ]
        }
      ],
      "source": [
        "print('Hello World')"
      ]
    },
    {
      "cell_type": "code",
      "execution_count": null,
      "metadata": {
        "colab": {
          "base_uri": "https://localhost:8080/",
          "height": 70
        },
        "id": "g_52IrQIgcPv",
        "outputId": "8fd62e25-a0e8-453a-8b90-61795d3cbaf1"
      },
      "outputs": [
        {
          "name": "stdout",
          "output_type": "stream",
          "text": [
            "Hello1\n",
            "Hello2\n",
            "Hello3\n"
          ]
        }
      ],
      "source": [
        "print(\"Hello1\")\n",
        "print(\"Hello2\")\n",
        "print(\"Hello3\")"
      ]
    },
    {
      "cell_type": "code",
      "execution_count": null,
      "metadata": {
        "colab": {
          "base_uri": "https://localhost:8080/",
          "height": 132
        },
        "id": "2ualX2qpg3Hy",
        "outputId": "6f5bf215-4619-43b0-ca2a-35e7f275e02e"
      },
      "outputs": [
        {
          "ename": "SyntaxError",
          "evalue": "Missing parentheses in call to 'print'. Did you mean print(\"Hello World\")? (<ipython-input-12-2e860ebf713e>, line 1)",
          "output_type": "error",
          "traceback": [
            "\u001b[0;36m  File \u001b[0;32m\"<ipython-input-12-2e860ebf713e>\"\u001b[0;36m, line \u001b[0;32m1\u001b[0m\n\u001b[0;31m    print \"Hello World\"\u001b[0m\n\u001b[0m          ^\u001b[0m\n\u001b[0;31mSyntaxError\u001b[0m\u001b[0;31m:\u001b[0m Missing parentheses in call to 'print'. Did you mean print(\"Hello World\")?\n"
          ]
        }
      ],
      "source": [
        "print \"Hello World\""
      ]
    },
    {
      "cell_type": "code",
      "execution_count": null,
      "metadata": {
        "colab": {
          "base_uri": "https://localhost:8080/",
          "height": 168
        },
        "id": "0BOHOWOdhcgp",
        "outputId": "10918476-5bf1-4d4e-e744-7ec1f4e31855"
      },
      "outputs": [
        {
          "ename": "NameError",
          "evalue": "name 'Hello' is not defined",
          "output_type": "error",
          "traceback": [
            "\u001b[0;31m---------------------------------------------------------------------------\u001b[0m",
            "\u001b[0;31mNameError\u001b[0m                                 Traceback (most recent call last)",
            "\u001b[0;32m<ipython-input-13-85bf5114fa6b>\u001b[0m in \u001b[0;36m<module>\u001b[0;34m\u001b[0m\n\u001b[0;32m----> 1\u001b[0;31m \u001b[0mprint\u001b[0m\u001b[0;34m(\u001b[0m\u001b[0mHello\u001b[0m\u001b[0;34m)\u001b[0m\u001b[0;34m\u001b[0m\u001b[0;34m\u001b[0m\u001b[0m\n\u001b[0m",
            "\u001b[0;31mNameError\u001b[0m: name 'Hello' is not defined"
          ]
        }
      ],
      "source": [
        "print(Hello) #Hello is a variable"
      ]
    },
    {
      "cell_type": "code",
      "execution_count": null,
      "metadata": {
        "colab": {
          "base_uri": "https://localhost:8080/",
          "height": 132
        },
        "id": "G69sCzFUhi5j",
        "outputId": "02a98d09-409c-4600-d1a5-a8d7a06c9f2c"
      },
      "outputs": [
        {
          "ename": "SyntaxError",
          "evalue": "EOL while scanning string literal (<ipython-input-14-21f0c5b97628>, line 1)",
          "output_type": "error",
          "traceback": [
            "\u001b[0;36m  File \u001b[0;32m\"<ipython-input-14-21f0c5b97628>\"\u001b[0;36m, line \u001b[0;32m1\u001b[0m\n\u001b[0;31m    print(\"Hello')\u001b[0m\n\u001b[0m                  ^\u001b[0m\n\u001b[0;31mSyntaxError\u001b[0m\u001b[0;31m:\u001b[0m EOL while scanning string literal\n"
          ]
        }
      ],
      "source": [
        "print(\"Hello')"
      ]
    },
    {
      "cell_type": "markdown",
      "metadata": {
        "id": "_vyk_KQjy4PC"
      },
      "source": [
        "## Commenting"
      ]
    },
    {
      "cell_type": "code",
      "execution_count": null,
      "metadata": {
        "id": "JsFmw9IuFSKR"
      },
      "outputs": [],
      "source": [
        "#commenting\n",
        "#taking notes"
      ]
    },
    {
      "cell_type": "code",
      "execution_count": null,
      "metadata": {
        "id": "llzXRK61FadN",
        "outputId": "b3a78b75-2d3e-4fae-f636-b7dcb2d4277c"
      },
      "outputs": [
        {
          "data": {
            "text/plain": [
              "'\\naefdfhd\\nasgfsfjdgm\\nzfhdfhjgjm\\nsgrsfgjdgjm\\n'"
            ]
          },
          "execution_count": 17,
          "metadata": {},
          "output_type": "execute_result"
        }
      ],
      "source": [
        "\"\"\"\n",
        "Hello world\n",
        "dbashjdghjgas\n",
        "\"\"\"\n",
        "\n",
        "'''\n",
        "aefdfhd\n",
        "asgfsfjdgm\n",
        "zfhdfhjgjm\n",
        "sgrsfgjdgjm\n",
        "'''"
      ]
    },
    {
      "cell_type": "markdown",
      "metadata": {
        "id": "Krc5HwdxkFvT"
      },
      "source": [
        "## Variable Assignment"
      ]
    },
    {
      "cell_type": "code",
      "execution_count": null,
      "metadata": {
        "id": "sLTOtb4ty4PD"
      },
      "outputs": [],
      "source": [
        "n = 300"
      ]
    },
    {
      "cell_type": "code",
      "execution_count": null,
      "metadata": {
        "id": "BUdfG_Fqy4PD",
        "outputId": "e6ef1935-7052-4d3b-e5b4-136bb0593158"
      },
      "outputs": [
        {
          "data": {
            "text/plain": [
              "300"
            ]
          },
          "execution_count": 19,
          "metadata": {},
          "output_type": "execute_result"
        }
      ],
      "source": [
        "n"
      ]
    },
    {
      "cell_type": "code",
      "execution_count": null,
      "metadata": {
        "id": "av5-vlUmy4PD",
        "outputId": "2ee82aac-6eb6-4620-880e-594af4c87409"
      },
      "outputs": [
        {
          "name": "stdout",
          "output_type": "stream",
          "text": [
            "300\n"
          ]
        }
      ],
      "source": [
        "print(n)"
      ]
    },
    {
      "cell_type": "code",
      "execution_count": null,
      "metadata": {
        "id": "2AtDnPiXy4PD",
        "outputId": "ae6392aa-a439-4d12-ffaa-27dfed0e7b5c"
      },
      "outputs": [
        {
          "data": {
            "text/plain": [
              "int"
            ]
          },
          "execution_count": 21,
          "metadata": {},
          "output_type": "execute_result"
        }
      ],
      "source": [
        "type(n) #checking the type of a variable"
      ]
    },
    {
      "cell_type": "code",
      "execution_count": null,
      "metadata": {
        "id": "AuZX4Nz_y4PE",
        "outputId": "96656854-0ae6-499b-a98d-2b954d478108"
      },
      "outputs": [
        {
          "data": {
            "text/plain": [
              "int"
            ]
          },
          "execution_count": 25,
          "metadata": {},
          "output_type": "execute_result"
        }
      ],
      "source": [
        "type(1000)"
      ]
    },
    {
      "cell_type": "code",
      "execution_count": null,
      "metadata": {
        "id": "cxMv2ruTy4PE"
      },
      "outputs": [],
      "source": [
        "m = n"
      ]
    },
    {
      "cell_type": "code",
      "execution_count": null,
      "metadata": {
        "id": "18yuPbb5m9GG",
        "outputId": "1947afc4-ffb4-40c7-8593-5f18b339c743"
      },
      "outputs": [
        {
          "name": "stdout",
          "output_type": "stream",
          "text": [
            "300\n"
          ]
        }
      ],
      "source": [
        "print(m)"
      ]
    },
    {
      "cell_type": "code",
      "execution_count": null,
      "metadata": {
        "id": "EJyKJBNJy4PE"
      },
      "outputs": [],
      "source": [
        "m = 400"
      ]
    },
    {
      "cell_type": "code",
      "execution_count": null,
      "metadata": {
        "id": "w1gX9FdJy4PE"
      },
      "outputs": [],
      "source": [
        "n = 500"
      ]
    },
    {
      "cell_type": "code",
      "execution_count": null,
      "metadata": {
        "id": "n3Yvnur6y4PE",
        "outputId": "98b5bf6e-a3c3-45d3-8f2d-1bb373afff14"
      },
      "outputs": [
        {
          "data": {
            "text/plain": [
              "300"
            ]
          },
          "execution_count": 29,
          "metadata": {},
          "output_type": "execute_result"
        }
      ],
      "source": [
        "m"
      ]
    },
    {
      "cell_type": "code",
      "execution_count": null,
      "metadata": {
        "id": "aDp-MbMVy4PF",
        "outputId": "c42a6771-0a4b-45ad-9ba9-c8cf15c3b111"
      },
      "outputs": [
        {
          "name": "stdout",
          "output_type": "stream",
          "text": [
            "<class 'int'>\n"
          ]
        }
      ],
      "source": [
        "print(type(m))"
      ]
    },
    {
      "cell_type": "code",
      "execution_count": null,
      "metadata": {
        "id": "GO6WONnhnVjB"
      },
      "outputs": [],
      "source": [
        "hello = \"World\""
      ]
    },
    {
      "cell_type": "code",
      "execution_count": null,
      "metadata": {
        "id": "2YZLBCcinyfx",
        "outputId": "da25e491-440c-4064-ebc4-5a1829ba6ac6"
      },
      "outputs": [
        {
          "name": "stdout",
          "output_type": "stream",
          "text": [
            "World\n"
          ]
        }
      ],
      "source": [
        "print(hello) #printing variables"
      ]
    },
    {
      "cell_type": "code",
      "execution_count": null,
      "metadata": {
        "id": "BdkwxYpBy4PF",
        "outputId": "c816871d-3663-4368-c373-7ef00098fc99"
      },
      "outputs": [
        {
          "name": "stdout",
          "output_type": "stream",
          "text": [
            "World\n"
          ]
        }
      ],
      "source": [
        "print(\"World\")"
      ]
    },
    {
      "cell_type": "code",
      "execution_count": null,
      "metadata": {
        "id": "letAfxW_oHH-",
        "outputId": "fd771bfa-7dab-43b9-beaa-fc88203e9ca4"
      },
      "outputs": [
        {
          "name": "stdout",
          "output_type": "stream",
          "text": [
            "<class 'str'>\n"
          ]
        }
      ],
      "source": [
        "print(type(hello))"
      ]
    },
    {
      "cell_type": "code",
      "execution_count": null,
      "metadata": {
        "id": "FMM4y1JXMjsL",
        "outputId": "10bdadf1-ee7c-43eb-ae36-d60166c724bc"
      },
      "outputs": [
        {
          "name": "stdout",
          "output_type": "stream",
          "text": [
            "<class 'float'>\n"
          ]
        }
      ],
      "source": [
        "t = 3.5\n",
        "print(type(t))"
      ]
    },
    {
      "cell_type": "code",
      "execution_count": null,
      "metadata": {
        "id": "OH94fvz1y4PG"
      },
      "outputs": [],
      "source": [
        "t = True #assigning booleans"
      ]
    },
    {
      "cell_type": "code",
      "execution_count": null,
      "metadata": {
        "id": "kjxh9cyuy4PG"
      },
      "outputs": [],
      "source": [
        "f = False"
      ]
    },
    {
      "cell_type": "code",
      "execution_count": null,
      "metadata": {
        "id": "Z0-fOgnuy4PG",
        "outputId": "020496f4-9511-4598-bbb1-289bd2038dbb"
      },
      "outputs": [
        {
          "name": "stdout",
          "output_type": "stream",
          "text": [
            "<class 'bool'>\n"
          ]
        }
      ],
      "source": [
        "print(type(f))"
      ]
    },
    {
      "cell_type": "code",
      "execution_count": null,
      "metadata": {
        "id": "7DtsrxEHyHUH"
      },
      "outputs": [],
      "source": [
        "t, f = True, False\n",
        "print(type(t))"
      ]
    },
    {
      "cell_type": "code",
      "execution_count": null,
      "metadata": {
        "id": "UleuXLMVwCgG",
        "outputId": "7fbb873e-4c16-47d0-bb9f-b8eb5c7f028a"
      },
      "outputs": [
        {
          "name": "stdout",
          "output_type": "stream",
          "text": [
            "5\n"
          ]
        }
      ],
      "source": [
        "print(len(hello)) #len function"
      ]
    },
    {
      "cell_type": "code",
      "execution_count": null,
      "metadata": {
        "id": "T7x_GUwvwKcS",
        "outputId": "e3e81728-c1db-4bad-907c-ee4ef5d87e50"
      },
      "outputs": [
        {
          "ename": "TypeError",
          "evalue": "object of type 'int' has no len()",
          "output_type": "error",
          "traceback": [
            "\u001b[0;31m---------------------------------------------------------------------------\u001b[0m",
            "\u001b[0;31mTypeError\u001b[0m                                 Traceback (most recent call last)",
            "\u001b[0;32m<ipython-input-42-ea96d82fdf93>\u001b[0m in \u001b[0;36m<module>\u001b[0;34m\u001b[0m\n\u001b[0;32m----> 1\u001b[0;31m \u001b[0mprint\u001b[0m\u001b[0;34m(\u001b[0m\u001b[0mlen\u001b[0m\u001b[0;34m(\u001b[0m\u001b[0mm\u001b[0m\u001b[0;34m)\u001b[0m\u001b[0;34m)\u001b[0m\u001b[0;34m\u001b[0m\u001b[0;34m\u001b[0m\u001b[0m\n\u001b[0m",
            "\u001b[0;31mTypeError\u001b[0m: object of type 'int' has no len()"
          ]
        }
      ],
      "source": [
        "print(len(m))"
      ]
    },
    {
      "cell_type": "code",
      "execution_count": null,
      "metadata": {
        "id": "aaTsxGhIy4PG",
        "outputId": "a3d1ff79-9f50-4b77-d2f1-285c38a7f9c3"
      },
      "outputs": [
        {
          "ename": "NameError",
          "evalue": "name 'gizem' is not defined",
          "output_type": "error",
          "traceback": [
            "\u001b[0;31m---------------------------------------------------------------------------\u001b[0m",
            "\u001b[0;31mNameError\u001b[0m                                 Traceback (most recent call last)",
            "\u001b[0;32m<ipython-input-43-e5be7e1c44d6>\u001b[0m in \u001b[0;36m<module>\u001b[0;34m\u001b[0m\n\u001b[0;32m----> 1\u001b[0;31m \u001b[0mlen\u001b[0m\u001b[0;34m(\u001b[0m\u001b[0mgizem\u001b[0m\u001b[0;34m)\u001b[0m\u001b[0;34m\u001b[0m\u001b[0;34m\u001b[0m\u001b[0m\n\u001b[0m",
            "\u001b[0;31mNameError\u001b[0m: name 'gizem' is not defined"
          ]
        }
      ],
      "source": [
        "len(gizem)"
      ]
    },
    {
      "cell_type": "code",
      "execution_count": null,
      "metadata": {
        "id": "CTkJ3E6-M1To",
        "outputId": "90e5c46f-2036-47bb-f867-905b14dc3815"
      },
      "outputs": [
        {
          "name": "stdout",
          "output_type": "stream",
          "text": [
            "Hello Gizem\n"
          ]
        }
      ],
      "source": [
        "name = \"Gizem\"\n",
        "print(f'Hello {name}')  #F-String"
      ]
    },
    {
      "cell_type": "code",
      "execution_count": null,
      "metadata": {
        "id": "kGpDhsXsy4PG",
        "outputId": "921fd31a-d646-40d1-f1bc-6e38809b4bea"
      },
      "outputs": [
        {
          "name": "stdout",
          "output_type": "stream",
          "text": [
            "I have 300 books\n"
          ]
        }
      ],
      "source": [
        "print(f'I have {m} books')"
      ]
    },
    {
      "cell_type": "code",
      "execution_count": null,
      "metadata": {
        "id": "6J6H8Zt3y4PH",
        "outputId": "24cdf22b-b73b-48b6-de83-6d75a3bde67a"
      },
      "outputs": [
        {
          "data": {
            "text/plain": [
              "str"
            ]
          },
          "execution_count": 47,
          "metadata": {},
          "output_type": "execute_result"
        }
      ],
      "source": [
        "type(\"#Gizem\")"
      ]
    },
    {
      "cell_type": "markdown",
      "metadata": {
        "id": "b2n4MypgRB0y"
      },
      "source": [
        "## Logical Operations"
      ]
    },
    {
      "cell_type": "code",
      "execution_count": null,
      "metadata": {
        "colab": {
          "base_uri": "https://localhost:8080/",
          "height": 35
        },
        "id": "gQPqkRSZRGJO",
        "outputId": "e2e58356-837c-4d23-b571-55161535d64e"
      },
      "outputs": [
        {
          "name": "stdout",
          "output_type": "stream",
          "text": [
            "<class 'bool'>\n"
          ]
        }
      ],
      "source": [
        "t, f = True, False\n",
        "print(type(t))"
      ]
    },
    {
      "cell_type": "markdown",
      "metadata": {
        "id": "wFWsuvYR2c-n"
      },
      "source": [
        "![truthtable.PNG](data:image/png;base64,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)\n"
      ]
    },
    {
      "cell_type": "code",
      "execution_count": null,
      "metadata": {
        "id": "1DMr_-Hqy4PI",
        "outputId": "a9bc00be-1f9e-45fb-fb9f-d7c15501ee3f"
      },
      "outputs": [
        {
          "name": "stdout",
          "output_type": "stream",
          "text": [
            "True\n"
          ]
        }
      ],
      "source": [
        "print(t or f)"
      ]
    },
    {
      "cell_type": "code",
      "execution_count": null,
      "metadata": {
        "id": "omHNlcnHy4PJ",
        "outputId": "986ba5e3-a687-4234-bfe6-53e45ef40909"
      },
      "outputs": [
        {
          "name": "stdout",
          "output_type": "stream",
          "text": [
            "False\n"
          ]
        }
      ],
      "source": [
        "print(t and f)"
      ]
    },
    {
      "cell_type": "code",
      "execution_count": null,
      "metadata": {
        "id": "NLN6ak8Xy4PJ",
        "outputId": "2d857fa6-9058-433c-a54d-86011bf8c2c9"
      },
      "outputs": [
        {
          "name": "stdout",
          "output_type": "stream",
          "text": [
            "False\n"
          ]
        }
      ],
      "source": [
        "print(not t)    # not: True if operand is false (complements the operand)"
      ]
    },
    {
      "cell_type": "code",
      "execution_count": null,
      "metadata": {
        "id": "bNXu-Ixiy4PJ",
        "outputId": "6ca459e8-949e-4c73-ea2f-e4af9d8d7ae8"
      },
      "outputs": [
        {
          "name": "stdout",
          "output_type": "stream",
          "text": [
            "True\n"
          ]
        }
      ],
      "source": [
        "print(t != f) # != not equal"
      ]
    },
    {
      "cell_type": "code",
      "execution_count": null,
      "metadata": {
        "id": "1BiNdPFfy4PK",
        "outputId": "db36c19a-af3c-4930-8cf0-38d51ae1e10f"
      },
      "outputs": [
        {
          "name": "stdout",
          "output_type": "stream",
          "text": [
            "False\n"
          ]
        }
      ],
      "source": [
        "print(1 != 1)"
      ]
    },
    {
      "cell_type": "code",
      "execution_count": null,
      "metadata": {
        "colab": {
          "base_uri": "https://localhost:8080/",
          "height": 106
        },
        "id": "GvI75XHkSd0s",
        "outputId": "3eca87f9-d1eb-44d1-c7d3-6dc95e2d00da"
      },
      "outputs": [
        {
          "name": "stdout",
          "output_type": "stream",
          "text": [
            "False\n"
          ]
        }
      ],
      "source": [
        "print(t==f)"
      ]
    },
    {
      "cell_type": "markdown",
      "metadata": {
        "id": "x1dij7GMy4PK"
      },
      "source": [
        "## Printing Strings"
      ]
    },
    {
      "cell_type": "code",
      "execution_count": null,
      "metadata": {
        "id": "4WTioQHYTGQF"
      },
      "outputs": [],
      "source": [
        "hello = 'Hello'\n",
        "world = \"World\""
      ]
    },
    {
      "cell_type": "code",
      "execution_count": null,
      "metadata": {
        "id": "UZ44mDSIy4PL",
        "outputId": "01e8364b-fab6-4673-cfd1-ee87a3f0deef"
      },
      "outputs": [
        {
          "data": {
            "text/plain": [
              "5"
            ]
          },
          "execution_count": 10,
          "metadata": {},
          "output_type": "execute_result"
        }
      ],
      "source": [
        "len(world)"
      ]
    },
    {
      "cell_type": "code",
      "execution_count": null,
      "metadata": {
        "colab": {
          "base_uri": "https://localhost:8080/",
          "height": 52
        },
        "id": "UbnigwvsTZuK",
        "outputId": "482430e0-f84c-4d14-d58d-72816a948526"
      },
      "outputs": [
        {
          "name": "stdout",
          "output_type": "stream",
          "text": [
            "World 5\n"
          ]
        }
      ],
      "source": [
        "print(world, len(world))"
      ]
    },
    {
      "cell_type": "code",
      "execution_count": null,
      "metadata": {
        "id": "RJSbaOcLy4PL"
      },
      "outputs": [],
      "source": [
        "#s is used as a placeholder for string values you want to inject into a formatted string.\n",
        "\n",
        "#%d is used as a placeholder for numeric or decimal values.\n",
        "\n",
        "\"\"\"\n",
        "The \"%\" operator is used to format a set of variables enclosed in a \"tuple\" (a fixed size list),\n",
        "together with a format string, which contains normal text together with \"argument specifiers\",\n",
        "special symbols like \"%s\" and \"%d\".\n",
        "\"\"\""
      ]
    },
    {
      "cell_type": "code",
      "execution_count": null,
      "metadata": {
        "id": "2aQElBWZy4PM"
      },
      "outputs": [],
      "source": [
        "world2 = '%s %d' % (world, len(world))"
      ]
    },
    {
      "cell_type": "code",
      "execution_count": null,
      "metadata": {
        "colab": {
          "base_uri": "https://localhost:8080/",
          "height": 35
        },
        "id": "uYlxQfiGd_gy",
        "outputId": "3d0e9680-6363-4fe7-b9ca-2419fe166c8a"
      },
      "outputs": [
        {
          "name": "stdout",
          "output_type": "stream",
          "text": [
            "World 5\n"
          ]
        }
      ],
      "source": [
        "print(world2)"
      ]
    },
    {
      "cell_type": "code",
      "execution_count": null,
      "metadata": {
        "colab": {
          "base_uri": "https://localhost:8080/",
          "height": 168
        },
        "id": "GLqwYoScTlqo",
        "outputId": "253f8595-22ea-446b-e8f2-03e4b7adbe78"
      },
      "outputs": [
        {
          "ename": "TypeError",
          "evalue": "can only concatenate str (not \"int\") to str",
          "output_type": "error",
          "traceback": [
            "\u001b[0;31m---------------------------------------------------------------------------\u001b[0m",
            "\u001b[0;31mTypeError\u001b[0m                                 Traceback (most recent call last)",
            "\u001b[0;32m<ipython-input-14-c78887e2cb9b>\u001b[0m in \u001b[0;36m<module>\u001b[0;34m\u001b[0m\n\u001b[0;32m----> 1\u001b[0;31m \u001b[0mprint\u001b[0m\u001b[0;34m(\u001b[0m\u001b[0mworld\u001b[0m \u001b[0;34m+\u001b[0m \u001b[0mlen\u001b[0m\u001b[0;34m(\u001b[0m\u001b[0mworld\u001b[0m\u001b[0;34m)\u001b[0m\u001b[0;34m)\u001b[0m\u001b[0;34m\u001b[0m\u001b[0;34m\u001b[0m\u001b[0m\n\u001b[0m",
            "\u001b[0;31mTypeError\u001b[0m: can only concatenate str (not \"int\") to str"
          ]
        }
      ],
      "source": [
        "print(world + len(world))"
      ]
    },
    {
      "cell_type": "code",
      "execution_count": null,
      "metadata": {
        "colab": {
          "base_uri": "https://localhost:8080/",
          "height": 52
        },
        "id": "OyY22MKZTp22",
        "outputId": "397e67bc-751e-4ef3-f0ec-3328c47df76d"
      },
      "outputs": [
        {
          "name": "stdout",
          "output_type": "stream",
          "text": [
            "World5\n"
          ]
        }
      ],
      "source": [
        "print(world + str(len(world)))"
      ]
    },
    {
      "cell_type": "code",
      "execution_count": null,
      "metadata": {
        "id": "fPHDsFxHy4PO",
        "outputId": "09a7ce4e-1435-4e74-e304-329263c272ee"
      },
      "outputs": [
        {
          "name": "stdout",
          "output_type": "stream",
          "text": [
            "World 5\n"
          ]
        }
      ],
      "source": [
        "print(world + \" \" + str(len(world)))"
      ]
    },
    {
      "cell_type": "code",
      "execution_count": null,
      "metadata": {
        "id": "41db5RxCy4PO",
        "outputId": "7d5fac52-dae2-42ad-b8db-a99a65b9c77d"
      },
      "outputs": [
        {
          "data": {
            "text/plain": [
              "'W'"
            ]
          },
          "execution_count": 17,
          "metadata": {},
          "output_type": "execute_result"
        }
      ],
      "source": [
        "world[0]"
      ]
    },
    {
      "cell_type": "code",
      "execution_count": null,
      "metadata": {
        "id": "HOFEzCLYy4PP",
        "outputId": "42d73c3e-aeaa-49a6-8e3d-2fde98340433"
      },
      "outputs": [
        {
          "name": "stdout",
          "output_type": "stream",
          "text": [
            "H\n"
          ]
        }
      ],
      "source": [
        "print(hello[0])"
      ]
    },
    {
      "cell_type": "code",
      "execution_count": null,
      "metadata": {
        "colab": {
          "base_uri": "https://localhost:8080/",
          "height": 52
        },
        "id": "vZjNAoLVR5U0",
        "outputId": "b83516d1-3a99-43b6-e0ff-b1b37ddaf30b"
      },
      "outputs": [
        {
          "name": "stdout",
          "output_type": "stream",
          "text": [
            "e\n"
          ]
        }
      ],
      "source": [
        "print(hello[1])"
      ]
    },
    {
      "cell_type": "code",
      "execution_count": null,
      "metadata": {
        "id": "yHNCuLzUy4PP",
        "outputId": "3478a77f-b758-4b9c-bf09-a01f72513e44"
      },
      "outputs": [
        {
          "data": {
            "text/plain": [
              "'l'"
            ]
          },
          "execution_count": 20,
          "metadata": {},
          "output_type": "execute_result"
        }
      ],
      "source": [
        "hello[2]"
      ]
    },
    {
      "cell_type": "code",
      "execution_count": null,
      "metadata": {
        "id": "lcV90dFVy4PP",
        "outputId": "44d94c0d-770f-46a0-db2a-5c9c1522f736"
      },
      "outputs": [
        {
          "name": "stdout",
          "output_type": "stream",
          "text": [
            "d\n"
          ]
        }
      ],
      "source": [
        "print(world[-1])"
      ]
    },
    {
      "cell_type": "code",
      "execution_count": null,
      "metadata": {
        "colab": {
          "base_uri": "https://localhost:8080/",
          "height": 52
        },
        "id": "obQknvFZWF5t",
        "outputId": "42f6445b-61da-4e85-bb2a-016affe64473"
      },
      "outputs": [
        {
          "name": "stdout",
          "output_type": "stream",
          "text": [
            "r\n"
          ]
        }
      ],
      "source": [
        "print(world[-3])"
      ]
    },
    {
      "cell_type": "code",
      "execution_count": null,
      "metadata": {
        "colab": {
          "base_uri": "https://localhost:8080/",
          "height": 168
        },
        "id": "CwVJZDqqWWyu",
        "outputId": "03c1f865-9d58-4346-e6d8-acae8dcf01f1"
      },
      "outputs": [
        {
          "data": {
            "text/plain": [
              "'W'"
            ]
          },
          "execution_count": 24,
          "metadata": {},
          "output_type": "execute_result"
        }
      ],
      "source": [
        "world[-5]"
      ]
    },
    {
      "cell_type": "code",
      "execution_count": null,
      "metadata": {
        "colab": {
          "base_uri": "https://localhost:8080/",
          "height": 36
        },
        "id": "1gW2be5tWek7",
        "outputId": "5e6924aa-4888-4ae0-934b-3c7392758241"
      },
      "outputs": [
        {
          "data": {
            "text/plain": [
              "'ll'"
            ]
          },
          "execution_count": 25,
          "metadata": {},
          "output_type": "execute_result"
        }
      ],
      "source": [
        "hello[2:4]  # 2nd and 3rd characters"
      ]
    },
    {
      "cell_type": "code",
      "execution_count": null,
      "metadata": {
        "colab": {
          "base_uri": "https://localhost:8080/",
          "height": 36
        },
        "id": "DFxoKm3daCMP",
        "outputId": "2cecfa05-e063-427b-8293-a42644f1bbf8"
      },
      "outputs": [
        {
          "data": {
            "text/plain": [
              "'orl'"
            ]
          },
          "execution_count": 26,
          "metadata": {},
          "output_type": "execute_result"
        }
      ],
      "source": [
        "world[1:4]"
      ]
    },
    {
      "cell_type": "code",
      "execution_count": null,
      "metadata": {
        "colab": {
          "base_uri": "https://localhost:8080/",
          "height": 52
        },
        "id": "aJ4PKy8TaHpD",
        "outputId": "b5a426b5-b4c2-4d0f-a287-fd65dbab2fcd"
      },
      "outputs": [
        {
          "name": "stdout",
          "output_type": "stream",
          "text": [
            "ld\n"
          ]
        }
      ],
      "source": [
        "print(world[3:5])"
      ]
    },
    {
      "cell_type": "code",
      "execution_count": null,
      "metadata": {
        "id": "KlyQJXZsy4PQ",
        "outputId": "66c0cc5b-9bcc-444e-abdf-dd8ac6822f46"
      },
      "outputs": [
        {
          "name": "stdout",
          "output_type": "stream",
          "text": [
            "ld\n"
          ]
        }
      ],
      "source": [
        "print(world[3:])"
      ]
    },
    {
      "cell_type": "code",
      "execution_count": null,
      "metadata": {
        "colab": {
          "base_uri": "https://localhost:8080/",
          "height": 36
        },
        "id": "ygsSpdGDaani",
        "outputId": "d34f251a-0777-4ab3-8067-698f0e1da86d"
      },
      "outputs": [
        {
          "data": {
            "text/plain": [
              "'Hell'"
            ]
          },
          "execution_count": 29,
          "metadata": {},
          "output_type": "execute_result"
        }
      ],
      "source": [
        "hello[:4]"
      ]
    },
    {
      "cell_type": "code",
      "execution_count": null,
      "metadata": {
        "colab": {
          "base_uri": "https://localhost:8080/",
          "height": 36
        },
        "id": "OE38aYOvafxr",
        "outputId": "51b66eae-8cd3-4e4a-bec2-b2036e4432e5"
      },
      "outputs": [
        {
          "data": {
            "text/plain": [
              "'Hello'"
            ]
          },
          "execution_count": 30,
          "metadata": {},
          "output_type": "execute_result"
        }
      ],
      "source": [
        "hello[:]"
      ]
    },
    {
      "cell_type": "code",
      "execution_count": null,
      "metadata": {
        "colab": {
          "base_uri": "https://localhost:8080/",
          "height": 36
        },
        "id": "4d12Mq3n03zL",
        "outputId": "672fca35-08f1-4386-b434-a1823d4b643a"
      },
      "outputs": [
        {
          "data": {
            "text/plain": [
              "'olleH'"
            ]
          },
          "execution_count": 31,
          "metadata": {},
          "output_type": "execute_result"
        }
      ],
      "source": [
        "hello[::-1]"
      ]
    },
    {
      "cell_type": "code",
      "execution_count": null,
      "metadata": {
        "colab": {
          "base_uri": "https://localhost:8080/",
          "height": 36
        },
        "id": "vG076dUoalJq",
        "outputId": "7ce2e41d-0229-42fb-aec3-85be28b60e8c"
      },
      "outputs": [
        {
          "data": {
            "text/plain": [
              "'Wo'"
            ]
          },
          "execution_count": 32,
          "metadata": {},
          "output_type": "execute_result"
        }
      ],
      "source": [
        "world[:-3]"
      ]
    },
    {
      "cell_type": "code",
      "execution_count": null,
      "metadata": {
        "id": "1RK2pYKvy4PR",
        "outputId": "cd7f3008-da0b-4a17-d754-d8db79ef4042"
      },
      "outputs": [
        {
          "data": {
            "text/plain": [
              "'llo'"
            ]
          },
          "execution_count": 36,
          "metadata": {},
          "output_type": "execute_result"
        }
      ],
      "source": [
        "hello[2:5]"
      ]
    },
    {
      "cell_type": "code",
      "execution_count": null,
      "metadata": {
        "colab": {
          "base_uri": "https://localhost:8080/",
          "height": 36
        },
        "id": "1kCxbvrVauoV",
        "outputId": "4f82b9da-78b7-45d3-b51c-3c875c19cda6"
      },
      "outputs": [
        {
          "data": {
            "text/plain": [
              "'llo'"
            ]
          },
          "execution_count": 33,
          "metadata": {},
          "output_type": "execute_result"
        }
      ],
      "source": [
        "hello[2:len(world)]"
      ]
    },
    {
      "cell_type": "code",
      "execution_count": null,
      "metadata": {
        "colab": {
          "base_uri": "https://localhost:8080/",
          "height": 36
        },
        "id": "3hrKJQS2a6A5",
        "outputId": "af5ea94b-1820-4870-f0e7-5459cefa4580"
      },
      "outputs": [
        {
          "data": {
            "text/plain": [
              "'rl'"
            ]
          },
          "execution_count": 34,
          "metadata": {},
          "output_type": "execute_result"
        }
      ],
      "source": [
        "world[2:4:1]   # [beginning:end:step_size]"
      ]
    },
    {
      "cell_type": "code",
      "execution_count": null,
      "metadata": {
        "colab": {
          "base_uri": "https://localhost:8080/",
          "height": 36
        },
        "id": "1Kgd14H_bNAj",
        "outputId": "32cc0fb4-0b01-4b08-e2c2-468afd327192"
      },
      "outputs": [
        {
          "data": {
            "text/plain": [
              "'itn'"
            ]
          },
          "execution_count": 35,
          "metadata": {},
          "output_type": "execute_result"
        }
      ],
      "source": [
        "city = \"istanbul\"\n",
        "city[0:6:2]"
      ]
    },
    {
      "cell_type": "code",
      "execution_count": null,
      "metadata": {
        "colab": {
          "base_uri": "https://localhost:8080/",
          "height": 35
        },
        "id": "7DcJJgzHcLUe",
        "outputId": "ea716398-c5b2-4ca3-f8fe-9dcc33cddd64"
      },
      "outputs": [
        {
          "data": {
            "text/plain": [
              "True"
            ]
          },
          "execution_count": 37,
          "metadata": {},
          "output_type": "execute_result"
        }
      ],
      "source": [
        "\"t\" in city"
      ]
    },
    {
      "cell_type": "code",
      "execution_count": null,
      "metadata": {
        "colab": {
          "base_uri": "https://localhost:8080/",
          "height": 35
        },
        "id": "JpWOAe0lcVlX",
        "outputId": "a534bbc1-19e7-4e86-e43c-7a21833f4da5"
      },
      "outputs": [
        {
          "data": {
            "text/plain": [
              "False"
            ]
          },
          "execution_count": 38,
          "metadata": {},
          "output_type": "execute_result"
        }
      ],
      "source": [
        "\"y\" in city"
      ]
    },
    {
      "cell_type": "code",
      "execution_count": null,
      "metadata": {
        "colab": {
          "base_uri": "https://localhost:8080/",
          "height": 35
        },
        "id": "mAFs1_oMcYgR",
        "outputId": "200388d0-c295-42e8-ee71-4a05c62f2a9f"
      },
      "outputs": [
        {
          "data": {
            "text/plain": [
              "True"
            ]
          },
          "execution_count": 39,
          "metadata": {},
          "output_type": "execute_result"
        }
      ],
      "source": [
        "\"anb\" in city"
      ]
    },
    {
      "cell_type": "code",
      "execution_count": null,
      "metadata": {
        "colab": {
          "base_uri": "https://localhost:8080/",
          "height": 35
        },
        "id": "0CTtKKESbR4o",
        "outputId": "4c9125a4-2508-4c86-d9e5-3be01676875e"
      },
      "outputs": [
        {
          "data": {
            "text/plain": [
              "False"
            ]
          },
          "execution_count": 40,
          "metadata": {},
          "output_type": "execute_result"
        }
      ],
      "source": [
        "\"snl\" in city"
      ]
    },
    {
      "cell_type": "code",
      "execution_count": null,
      "metadata": {
        "colab": {
          "base_uri": "https://localhost:8080/",
          "height": 36
        },
        "id": "5lEA4XvscNz4",
        "outputId": "be29ddc0-e203-47d0-f4f3-8a2121c6f32e"
      },
      "outputs": [
        {
          "data": {
            "text/plain": [
              "'10'"
            ]
          },
          "execution_count": 42,
          "metadata": {},
          "output_type": "execute_result"
        }
      ],
      "source": [
        "n = 10\n",
        "str(n)"
      ]
    },
    {
      "cell_type": "code",
      "execution_count": null,
      "metadata": {
        "colab": {
          "base_uri": "https://localhost:8080/",
          "height": 35
        },
        "id": "fzWxmiIwcZQw",
        "outputId": "f2ef7544-85a7-4116-ce61-25eaac65df0e"
      },
      "outputs": [
        {
          "data": {
            "text/plain": [
              "13"
            ]
          },
          "execution_count": 43,
          "metadata": {},
          "output_type": "execute_result"
        }
      ],
      "source": [
        "s = '13'\n",
        "int(s)"
      ]
    },
    {
      "cell_type": "code",
      "execution_count": null,
      "metadata": {
        "id": "qOehpC90cqeg",
        "outputId": "610064c7-dd89-4912-e34a-f411611c157f"
      },
      "outputs": [
        {
          "ename": "ValueError",
          "evalue": "invalid literal for int() with base 10: 'ist'",
          "output_type": "error",
          "traceback": [
            "\u001b[0;31m---------------------------------------------------------------------------\u001b[0m",
            "\u001b[0;31mValueError\u001b[0m                                Traceback (most recent call last)",
            "\u001b[0;32m<ipython-input-44-5289cffa7745>\u001b[0m in \u001b[0;36m<module>\u001b[0;34m\u001b[0m\n\u001b[1;32m      1\u001b[0m \u001b[0ms\u001b[0m \u001b[0;34m=\u001b[0m \u001b[0;34m'ist'\u001b[0m\u001b[0;34m\u001b[0m\u001b[0;34m\u001b[0m\u001b[0m\n\u001b[0;32m----> 2\u001b[0;31m \u001b[0mint\u001b[0m\u001b[0;34m(\u001b[0m\u001b[0ms\u001b[0m\u001b[0;34m)\u001b[0m\u001b[0;34m\u001b[0m\u001b[0;34m\u001b[0m\u001b[0m\n\u001b[0m",
            "\u001b[0;31mValueError\u001b[0m: invalid literal for int() with base 10: 'ist'"
          ]
        }
      ],
      "source": [
        "s = 'ist'\n",
        "int(s)"
      ]
    },
    {
      "cell_type": "code",
      "execution_count": null,
      "metadata": {
        "colab": {
          "base_uri": "https://localhost:8080/",
          "height": 52
        },
        "id": "Cqef9NxWcu0f",
        "outputId": "2db66066-d231-49c6-e31a-1861e9679fe6"
      },
      "outputs": [
        {
          "name": "stdout",
          "output_type": "stream",
          "text": [
            "8.0\n"
          ]
        }
      ],
      "source": [
        "m = 8\n",
        "print(float(m))"
      ]
    },
    {
      "cell_type": "code",
      "execution_count": null,
      "metadata": {
        "colab": {
          "base_uri": "https://localhost:8080/",
          "height": 35
        },
        "id": "QOay86Z9dqQb",
        "outputId": "1b1951dd-5d62-4d80-95ea-902cef5f2f76"
      },
      "outputs": [
        {
          "name": "stdout",
          "output_type": "stream",
          "text": [
            "artificial intelligence\n"
          ]
        }
      ],
      "source": [
        "ai = 'artificial' + ' ' + 'intelligence'\n",
        "print(ai)"
      ]
    },
    {
      "cell_type": "code",
      "execution_count": null,
      "metadata": {
        "colab": {
          "base_uri": "https://localhost:8080/",
          "height": 35
        },
        "id": "az6ygCGue2sY",
        "outputId": "d25ccec9-bcfb-4bbb-d293-d824bb545492"
      },
      "outputs": [
        {
          "name": "stdout",
          "output_type": "stream",
          "text": [
            "Machine learning\n"
          ]
        }
      ],
      "source": [
        "word = 'machine learning'\n",
        "print(word.capitalize())"
      ]
    },
    {
      "cell_type": "code",
      "execution_count": null,
      "metadata": {
        "colab": {
          "base_uri": "https://localhost:8080/",
          "height": 35
        },
        "id": "3nF1ST9UfCGu",
        "outputId": "a295c72e-72c4-4b9c-9cc7-67dfaf736037"
      },
      "outputs": [
        {
          "name": "stdout",
          "output_type": "stream",
          "text": [
            "MACHINE LEARNING\n"
          ]
        }
      ],
      "source": [
        "print(word.upper())"
      ]
    },
    {
      "cell_type": "code",
      "execution_count": null,
      "metadata": {
        "colab": {
          "base_uri": "https://localhost:8080/",
          "height": 35
        },
        "id": "9r6KvgMYfiVQ",
        "outputId": "78b127c1-3673-46f4-9c03-8fc68d0d40fb"
      },
      "outputs": [
        {
          "name": "stdout",
          "output_type": "stream",
          "text": [
            "artificial learning\n"
          ]
        }
      ],
      "source": [
        "print(word.replace('machine','artificial'))"
      ]
    },
    {
      "cell_type": "code",
      "execution_count": null,
      "metadata": {
        "id": "TjnWT_9Zfs2r"
      },
      "outputs": [],
      "source": [
        "word"
      ]
    },
    {
      "cell_type": "code",
      "execution_count": null,
      "metadata": {
        "id": "c6cPTM7Ny4PT"
      },
      "outputs": [],
      "source": [
        "word2 = \"          artificial general      intelligence\""
      ]
    },
    {
      "cell_type": "code",
      "execution_count": null,
      "metadata": {
        "id": "MpABmzu0y4PT",
        "outputId": "b7d5c062-9943-4d8f-f588-31688d740ea6"
      },
      "outputs": [
        {
          "data": {
            "text/plain": [
              "'          artificial general      intelligence'"
            ]
          },
          "execution_count": 51,
          "metadata": {},
          "output_type": "execute_result"
        }
      ],
      "source": [
        "word2"
      ]
    },
    {
      "cell_type": "code",
      "execution_count": null,
      "metadata": {
        "colab": {
          "base_uri": "https://localhost:8080/",
          "height": 35
        },
        "id": "H1WYJsidfw-G",
        "outputId": "d4bfa4f2-16b5-44c6-bd27-748b5f331489"
      },
      "outputs": [
        {
          "name": "stdout",
          "output_type": "stream",
          "text": [
            "artificial general      intelligence\n"
          ]
        }
      ],
      "source": [
        "print(word2.strip()) #delete spaces in the beginning and end"
      ]
    },
    {
      "cell_type": "code",
      "execution_count": null,
      "metadata": {
        "colab": {
          "base_uri": "https://localhost:8080/",
          "height": 52
        },
        "id": "Voc6zKLzhlmv",
        "outputId": "66172d30-b869-4639-c287-d650203829d5"
      },
      "outputs": [
        {
          "name": "stdout",
          "output_type": "stream",
          "text": [
            "Please enter a city name: istanbul\n"
          ]
        }
      ],
      "source": [
        "y = input(\"Please enter a city name: \")  #input takes string as a parameter"
      ]
    },
    {
      "cell_type": "code",
      "execution_count": null,
      "metadata": {
        "id": "6B492uUay4PT",
        "outputId": "199385fc-9f79-45f8-d1e3-9728f6ba57bd"
      },
      "outputs": [
        {
          "name": "stdout",
          "output_type": "stream",
          "text": [
            "istanbul\n"
          ]
        }
      ],
      "source": [
        "print(y)"
      ]
    },
    {
      "cell_type": "code",
      "execution_count": null,
      "metadata": {
        "id": "y0u20Ajey4PT",
        "outputId": "51fb950a-2a7c-48a7-d0dd-ddae7716212f"
      },
      "outputs": [
        {
          "data": {
            "text/plain": [
              "str"
            ]
          },
          "execution_count": 57,
          "metadata": {},
          "output_type": "execute_result"
        }
      ],
      "source": [
        "type(y)"
      ]
    },
    {
      "cell_type": "code",
      "execution_count": null,
      "metadata": {
        "colab": {
          "base_uri": "https://localhost:8080/",
          "height": 52
        },
        "id": "3zyJI9oljhQi",
        "outputId": "5d71d13a-944d-4e1a-fa22-a3a3f270cd55"
      },
      "outputs": [
        {
          "name": "stdout",
          "output_type": "stream",
          "text": [
            "Please enter an integer: 7\n",
            "7\n"
          ]
        }
      ],
      "source": [
        "x = int(input(\"Please enter an integer: \"))\n",
        "print(x)"
      ]
    },
    {
      "cell_type": "code",
      "execution_count": null,
      "metadata": {
        "id": "J4FXqGnAy4PU",
        "outputId": "d0bcb37a-aaf5-4df7-f39a-e7bd7ec82ae9"
      },
      "outputs": [
        {
          "data": {
            "text/plain": [
              "int"
            ]
          },
          "execution_count": 59,
          "metadata": {},
          "output_type": "execute_result"
        }
      ],
      "source": [
        "type(7)"
      ]
    },
    {
      "cell_type": "code",
      "execution_count": null,
      "metadata": {
        "id": "OGS-YMaOlB34"
      },
      "outputs": [],
      "source": [
        "month = 12\n",
        "day = 365"
      ]
    },
    {
      "cell_type": "code",
      "execution_count": null,
      "metadata": {
        "id": "7Mx71GgKy4PU",
        "outputId": "dfdede2c-568b-4a6b-c7e8-4e77486fb24c"
      },
      "outputs": [
        {
          "name": "stdout",
          "output_type": "stream",
          "text": [
            "A year consists of  12 months and  365 days.\n"
          ]
        }
      ],
      "source": [
        "print('A year consists of ', month, 'months and ', day, 'days.')"
      ]
    },
    {
      "cell_type": "code",
      "execution_count": null,
      "metadata": {
        "id": "Wgn5yM4Yy4PU",
        "outputId": "b0fae6cf-f8d2-4dff-adf2-6c4a892fc38c"
      },
      "outputs": [
        {
          "name": "stdout",
          "output_type": "stream",
          "text": [
            "A year consists of  12 months and 365 days\n"
          ]
        }
      ],
      "source": [
        "print(\"A year consists of  \" + str(month) + \" months and \" + str(day) + \" days\")"
      ]
    },
    {
      "cell_type": "code",
      "execution_count": null,
      "metadata": {
        "id": "1ZrWhZAGgNID"
      },
      "outputs": [],
      "source": []
    }
  ],
  "metadata": {
    "kernelspec": {
      "display_name": "Python 3",
      "language": "python",
      "name": "python3"
    },
    "language_info": {
      "codemirror_mode": {
        "name": "ipython",
        "version": 3
      },
      "file_extension": ".py",
      "mimetype": "text/x-python",
      "name": "python",
      "nbconvert_exporter": "python",
      "pygments_lexer": "ipython3",
      "version": "3.7.3"
    },
    "colab": {
      "provenance": [],
      "include_colab_link": true
    }
  },
  "nbformat": 4,
  "nbformat_minor": 0
}